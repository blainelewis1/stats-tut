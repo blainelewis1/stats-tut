{
 "cells": [
  {
   "cell_type": "markdown",
   "metadata": {},
   "source": [
    "# Initialisation"
   ]
  },
  {
   "cell_type": "markdown",
   "metadata": {},
   "source": [
    "## Imports"
   ]
  },
  {
   "cell_type": "markdown",
   "metadata": {},
   "source": [
    "### Magics"
   ]
  },
  {
   "cell_type": "code",
   "execution_count": 1,
   "metadata": {
    "collapsed": true
   },
   "outputs": [],
   "source": [
    "%load_ext rpy2.ipython\n",
    "%matplotlib inline"
   ]
  },
  {
   "cell_type": "markdown",
   "metadata": {},
   "source": [
    "### R"
   ]
  },
  {
   "cell_type": "code",
   "execution_count": 2,
   "metadata": {
    "scrolled": false
   },
   "outputs": [
    {
     "name": "stderr",
     "output_type": "stream",
     "text": [
      "/usr/local/lib/python3.6/site-packages/rpy2/rinterface/__init__.py:145: RRuntimeWarning: Loading required package: MASS\n",
      "\n",
      "  warnings.warn(x, RRuntimeWarning)\n",
      "/usr/local/lib/python3.6/site-packages/rpy2/rinterface/__init__.py:145: RRuntimeWarning: Loading required package: survival\n",
      "\n",
      "  warnings.warn(x, RRuntimeWarning)\n",
      "/usr/local/lib/python3.6/site-packages/rpy2/rinterface/__init__.py:145: RRuntimeWarning: The 'lsmeans' package is being deprecated.\n",
      "Users are encouraged to switch to 'emmeans'.\n",
      "See help('transition') for more information, including how\n",
      "to convert 'lsmeans' objects and scripts to work with 'emmeans'.\n",
      "\n",
      "  warnings.warn(x, RRuntimeWarning)\n"
     ]
    }
   ],
   "source": [
    "%%R\n",
    "library(fitdistrplus)\n",
    "library(sjstats)\n",
    "library(ARTool)\n",
    "library(lsmeans)\n",
    "library(ez)"
   ]
  },
  {
   "cell_type": "markdown",
   "metadata": {},
   "source": [
    "### Python"
   ]
  },
  {
   "cell_type": "code",
   "execution_count": 3,
   "metadata": {
    "collapsed": true
   },
   "outputs": [],
   "source": [
    "import pandas as pd\n",
    "import matplotlib.pyplot as plt\n",
    "import seaborn as sns\n",
    "import math\n",
    "import numpy as np\n",
    "from scipy import stats"
   ]
  },
  {
   "cell_type": "markdown",
   "metadata": {},
   "source": [
    "### Magics"
   ]
  },
  {
   "cell_type": "code",
   "execution_count": 4,
   "metadata": {},
   "outputs": [
    {
     "name": "stdout",
     "output_type": "stream",
     "text": [
      "The rpy2.ipython extension is already loaded. To reload it, use:\n",
      "  %reload_ext rpy2.ipython\n"
     ]
    }
   ],
   "source": [
    "%load_ext rpy2.ipython\n",
    "%matplotlib inline"
   ]
  },
  {
   "cell_type": "markdown",
   "metadata": {},
   "source": [
    "### Seaborn"
   ]
  },
  {
   "cell_type": "code",
   "execution_count": 5,
   "metadata": {
    "collapsed": true
   },
   "outputs": [],
   "source": [
    "sns.set_style('whitegrid', {'legend.frameon':True})\n",
    "sns.set_palette(sns.xkcd_palette(['grey']) + sns.color_palette('colorblind', 3))"
   ]
  },
  {
   "cell_type": "markdown",
   "metadata": {},
   "source": [
    "## Helpers"
   ]
  },
  {
   "cell_type": "code",
   "execution_count": 6,
   "metadata": {
    "collapsed": true
   },
   "outputs": [],
   "source": [
    "def fetch_questionnaire(questionnaire_id):\n",
    "    base = 'https://docs.google.com/spreadsheets/d/<FILE_ID>/gviz/tq?tqx=out:csv'\n",
    "    return pd.read_csv(base.replace('<FILE_ID>', questionnaire_id))\n",
    "\n",
    "def MAD(arr):\n",
    "    \"\"\" Median Absolute Deviation: a \"Robust\" version of standard deviation.\n",
    "        Indices variabililty of the sample.\n",
    "        https://en.wikipedia.org/wiki/Median_absolute_deviation \n",
    "    \"\"\"\n",
    "    arr = np.ma.array(arr).compressed() # should be faster to not use masked arrays.\n",
    "    med = np.median(arr)\n",
    "    return np.median(np.abs(arr - med))\n",
    "\n",
    "def median_mad(arr):\n",
    "    return '{} ({})'.format(np.median(arr), MAD(arr))"
   ]
  },
  {
   "cell_type": "code",
   "execution_count": 7,
   "metadata": {
    "collapsed": true
   },
   "outputs": [],
   "source": [
    "%%R \n",
    "\n",
    "anova_to_latex <- function(df1, df2, p, F, eta) {\n",
    "    cmd = '\\anova'\n",
    "    df = paste('{', formatC(df1, digits = 2, format = \"f\"),  '}', '{', formatC(df2, digits = 2, format = \"f\"), '}', sep = \"\")\n",
    "    eta = paste('{', formatC(eta, digits = 2, format = \"f\"), '}', sep = \"\")\n",
    "    F = paste('{', formatC(F, digits = 2, format = \"f\"), '}', sep = \"\")\n",
    "\n",
    "    if(p < 0.001) {\n",
    "        p = 0.001\n",
    "    } else if (p < 0.01) {\n",
    "        p = 0.01\n",
    "    } else if (p < 0.05) {\n",
    "        p = 0.05\n",
    "    } else {\n",
    "        p = formatC(p, digits = 2, format = \"f\")\n",
    "        cmd = '\\anovaex'\n",
    "    }\n",
    "\n",
    "    p = paste('{',p,'}', sep = \"\")\n",
    "\n",
    "    return(paste(cmd, df, F, p, eta, sep = \"\"))\n",
    "}\n",
    "\n",
    "#TODO: write a function that does this for ezANOVA and handles GG corrections.\n",
    "#TODO: dfs are printed with decimals.\n",
    "#TODO: remove leading zeros.\n",
    "aov_to_latex <- function(m){\n",
    "    s = unlist(summary(m))\n",
    "    return(anova_to_latex(s['Df1'], s['Df2'],\n",
    "                          s['Pr(>F)1'],\n",
    "                          s['F value1'],\n",
    "                          eta_sq(m)[2]$etasq))\n",
    "}\n",
    "\n"
   ]
  },
  {
   "cell_type": "markdown",
   "metadata": {},
   "source": [
    "# Data Manipulation"
   ]
  },
  {
   "cell_type": "markdown",
   "metadata": {},
   "source": [
    "## Loading"
   ]
  },
  {
   "cell_type": "code",
   "execution_count": 8,
   "metadata": {},
   "outputs": [
    {
     "name": "stdout",
     "output_type": "stream",
     "text": [
      "<class 'pandas.core.frame.DataFrame'>\n",
      "Int64Index: 11264 entries, 0 to 11263\n",
      "Data columns (total 31 columns):\n",
      "activatedWtihGuidance         10462 non-null float64\n",
      "area                          11264 non-null object\n",
      "attempts                      11264 non-null object\n",
      "block                         11264 non-null int64\n",
      "block_type                    11264 non-null object\n",
      "checkedLinearMenu             11264 non-null bool\n",
      "checkedShortcutInterface      11264 non-null bool\n",
      "condition                     11264 non-null object\n",
      "dismissedLinearMenu           11264 non-null bool\n",
      "dismissedShortcutInterface    11264 non-null bool\n",
      "erroredLinearMenu             11264 non-null bool\n",
      "errors                        11264 non-null int64\n",
      "eventualActivationMethod      11264 non-null object\n",
      "finalReferenceTime            11264 non-null int64\n",
      "finalTaskTime                 11264 non-null int64\n",
      "frequency                     11264 non-null int64\n",
      "grouped                       11264 non-null bool\n",
      "hasKeyError                   11264 non-null bool\n",
      "isSuccessfulRecall            11264 non-null bool\n",
      "key                           11264 non-null object\n",
      "numAttempts                   11264 non-null int64\n",
      "participant                   11264 non-null int64\n",
      "rawLogs                       11264 non-null object\n",
      "referenceTask                 11264 non-null object\n",
      "shortcut                      11264 non-null object\n",
      "title                         11264 non-null object\n",
      "totalFinalTaskTime            0 non-null float64\n",
      "totalReferenceTime            11264 non-null int64\n",
      "totalTaskTime                 11264 non-null int64\n",
      "totalTime                     11264 non-null int64\n",
      "trial                         11264 non-null int64\n",
      "dtypes: bool(8), float64(2), int64(11), object(10)\n",
      "memory usage: 2.1+ MB\n"
     ]
    }
   ],
   "source": [
    "df = pd.read_json('data.json')\n",
    "df.info()"
   ]
  },
  {
   "cell_type": "code",
   "execution_count": 9,
   "metadata": {
    "collapsed": true
   },
   "outputs": [],
   "source": [
    "subjective = fetch_questionnaire('18pwOH1C1Ocw0VwjzYf7NfIfoRtSxLi_1WRn3zHuNatU')\n",
    "subjective = subjective[~subjective['Condition'].isnull()]"
   ]
  },
  {
   "cell_type": "markdown",
   "metadata": {},
   "source": [
    "## Renaming"
   ]
  },
  {
   "cell_type": "markdown",
   "metadata": {},
   "source": [
    "Rename everything with capitals so they look nice in the graphs"
   ]
  },
  {
   "cell_type": "code",
   "execution_count": 10,
   "metadata": {
    "collapsed": true
   },
   "outputs": [],
   "source": [
    "df['Block'] = df['block']\n",
    "df['Participant'] = df['participant']\n",
    "df['Total Task Time'] = df['totalTaskTime']\n",
    "df['Recall'] = df['isSuccessfulRecall']\n",
    "df['Expert Use'] = df['isSuccessfulRecall']\n",
    "df['Condition'] = df['condition']\n",
    "df['Cancellation Rate'] = df['dismissedShortcutInterface']"
   ]
  },
  {
   "cell_type": "markdown",
   "metadata": {},
   "source": [
    "Error rate is measured as the number of trials in a block that contain one or more errors. It is an indicator variable"
   ]
  },
  {
   "cell_type": "code",
   "execution_count": 11,
   "metadata": {
    "collapsed": true
   },
   "outputs": [],
   "source": [
    "df['Error Rate'] = df['errors'].astype(bool).astype(int)"
   ]
  },
  {
   "cell_type": "code",
   "execution_count": 12,
   "metadata": {
    "collapsed": true
   },
   "outputs": [],
   "source": [
    "subjective['Participant'] = subjective['ID']\n",
    "\n",
    "subjective['Primary'] = subjective['Preference for Primary Posture']\n",
    "subjective['Secondary'] = subjective['Preference for Secondary Posture']\n",
    "subjective['Tertiary'] = subjective['Preference for Tertiary Posture']\n",
    "subjective['Quaternary'] = subjective['Preference for Quaternary Posture']"
   ]
  },
  {
   "cell_type": "markdown",
   "metadata": {},
   "source": [
    "## Recoding"
   ]
  },
  {
   "cell_type": "code",
   "execution_count": 13,
   "metadata": {
    "collapsed": true
   },
   "outputs": [],
   "source": [
    "def convert_cond(val):\n",
    "    if val == 'Feedback':\n",
    "        return 'GuidedKey'\n",
    "    else:\n",
    "        return val"
   ]
  },
  {
   "cell_type": "markdown",
   "metadata": {},
   "source": [
    "Recode the conditions so they order in the graphs properly"
   ]
  },
  {
   "cell_type": "code",
   "execution_count": 14,
   "metadata": {
    "collapsed": true
   },
   "outputs": [],
   "source": [
    "df['Condition'] = df['Condition'].map(convert_cond)\n",
    "df['Trial'] = df['trial'] * df['block']\n",
    "df['Condition'] = df['Condition'].astype('category', categories=['Baseline', 'GuidedKey', 'FingerArc', 'FingerChord'], ordered=True)\n",
    "df['Grouped'] = df['grouped'].map(lambda x: 'Grouped' if x else 'Ungrouped').astype('category', ['Ungrouped', 'Grouped'])"
   ]
  },
  {
   "cell_type": "code",
   "execution_count": 15,
   "metadata": {
    "collapsed": true
   },
   "outputs": [],
   "source": [
    "subjective['Condition'] = subjective['Condition'].map(convert_cond)\n",
    "subjective['Condition'] = subjective['Condition'].astype('category', categories=['Baseline', 'GuidedKey', 'FingerArc', 'FingerChord'], ordered=True)"
   ]
  },
  {
   "cell_type": "markdown",
   "metadata": {},
   "source": [
    "## Filtering"
   ]
  },
  {
   "cell_type": "markdown",
   "metadata": {},
   "source": [
    "Reduce the columns to a small set to make everything a bit cleaner and split out our test and training data."
   ]
  },
  {
   "cell_type": "code",
   "execution_count": 16,
   "metadata": {},
   "outputs": [],
   "source": [
    "posture = subjective[['Participant', 'Condition', 'Primary', 'Secondary',\n",
    "       'Tertiary', 'Quaternary']]\n",
    "\n",
    "demographics = subjective[['Participant', 'Condition', 'Age', 'Gender',\n",
    "       'Dominant Hand', 'Dominant Hand for Trackpad or Mouse',\n",
    "       'Daily Computer Use Hours', 'Weekly Computer Use', 'Typing Test - WPM',\n",
    "       'Typing Test - CPM']]\n",
    "\n",
    "# subjective = subjective[['Participant', 'Condition', 'Ease of Learning the Technique', 'Ease of Use']]\n",
    "subjective = subjective[['Participant', 'Condition', 'Ease of Use', 'Ease of Learning the Technique',\n",
    "       'Ease of Memorising Shortcuts', 'Hand Fatigue', 'Eye Fatigue',\n",
    "       'Accuracy', 'Speed']]\n",
    "\n",
    "\n",
    "subjective_melted = subjective.melt(id_vars=[\"Participant\", \"Condition\"], var_name=\"Measure\", value_name=\"Rating\")\n",
    "subjective_melted['Condition'] = subjective_melted['Condition'].astype('category', categories=['Baseline', 'GuidedKey', 'FingerArc', 'FingerChord'], ordered=True)\n",
    "\n",
    "demographics_melted = demographics.melt(id_vars=[\"Participant\", \"Condition\"], var_name=\"Measure\", value_name=\"Value\")\n",
    "demographics_melted['Condition'] = demographics_melted['Condition'].astype('category', categories=['Baseline', 'GuidedKey', 'FingerArc', 'FingerChord'], ordered=True)"
   ]
  },
  {
   "cell_type": "code",
   "execution_count": 17,
   "metadata": {
    "collapsed": true
   },
   "outputs": [],
   "source": [
    "training = df[df['block_type'] == 'training'].copy()\n",
    "training = training[['Trial', 'trial', 'Condition', 'Participant', 'Block', 'Grouped', 'Total Task Time', 'Error Rate', 'Cancellation Rate']]\n",
    "\n",
    "training['Cancellation Rate'] = training['Cancellation Rate'].map(int)"
   ]
  },
  {
   "cell_type": "code",
   "execution_count": 18,
   "metadata": {
    "collapsed": true,
    "scrolled": false
   },
   "outputs": [],
   "source": [
    "def codeAttempt(row):\n",
    "    if row['checkedLinearMenu']:\n",
    "        return 'Linear Menu'\n",
    "    if row['checkedShortcutInterface']:\n",
    "        return 'Shortcut Guidance'\n",
    "    else:\n",
    "        return 'Shortcut'\n",
    "\n",
    "modality = df[df['block_type'] == 'training'][['Condition', 'Participant', 'Block', 'Grouped', 'trial', 'checkedLinearMenu', 'checkedShortcutInterface']].copy()\n",
    "modality['Selection Type'] = modality.apply(codeAttempt, axis=1)\n",
    "\n",
    "modality['Shortcut Guidance'] = (modality['Selection Type'] == 'Shortcut Guidance').map(int)\n",
    "modality['Shortcut'] = (modality['Selection Type'] == 'Shortcut').map(int)\n",
    "modality['Linear Menu'] = (modality['Selection Type'] == 'Linear Menu').map(int)\n",
    "\n",
    "del modality['Selection Type']\n",
    "del modality['checkedLinearMenu']\n",
    "del modality['checkedShortcutInterface']\n",
    "\n",
    "modality = modality.melt(id_vars=['Condition', 'Participant', 'Block', 'Grouped', 'trial'], value_name='Number of Selections', var_name='Selection Type')\n",
    "modality['Condition'] = modality['Condition'].astype('category', categories=['Baseline', 'GuidedKey', 'FingerArc', 'FingerChord'], ordered=True)\n",
    "\n",
    "\n",
    "modality['Selection Type'] = modality['Selection Type'].astype('category', ordered=True, categories=['Linear Menu', 'Shortcut Guidance', 'Shortcut'])\n",
    "modality_grouped = modality.groupby(['Condition', 'Participant', 'Block', 'Grouped', 'Selection Type'], as_index=False).sum()"
   ]
  },
  {
   "cell_type": "markdown",
   "metadata": {},
   "source": [
    "## Aggregation"
   ]
  },
  {
   "cell_type": "code",
   "execution_count": 19,
   "metadata": {},
   "outputs": [],
   "source": [
    "training_aggregations = {\n",
    "    'Total Task Time' : 'median',\n",
    "    'Error Rate' : 'mean',\n",
    "}\n",
    "\n",
    "training_participant_blocks = training.groupby(['Condition', 'Participant', 'Block'], as_index=False).agg(training_aggregations)\n",
    "training_block_grouped = training.groupby(['Condition', 'Participant', 'Block', 'Grouped'], as_index=False).agg(training_aggregations)\n",
    "training_last_blocks_grouped = training_block_grouped[training_block_grouped['Block'] >= 8].copy()\n",
    "\n",
    "training_participant = training.groupby(['Condition', 'Participant'], as_index=False).agg(training_aggregations)\n",
    "training_conditions = training.groupby(['Condition'], as_index=False).agg(training_aggregations)"
   ]
  }
 ],
 "metadata": {
  "hide_input": false,
  "kernelspec": {
   "display_name": "Python 3",
   "language": "python",
   "name": "python3"
  },
  "language_info": {
   "codemirror_mode": {
    "name": "ipython",
    "version": 3
   },
   "file_extension": ".py",
   "mimetype": "text/x-python",
   "name": "python",
   "nbconvert_exporter": "python",
   "pygments_lexer": "ipython3",
   "version": "3.6.4"
  },
  "toc": {
   "nav_menu": {},
   "number_sections": true,
   "sideBar": true,
   "skip_h1_title": false,
   "toc_cell": false,
   "toc_position": {
    "height": "696px",
    "left": "0px",
    "right": "1228px",
    "top": "107px",
    "width": "212px"
   },
   "toc_section_display": "block",
   "toc_window_display": true
  }
 },
 "nbformat": 4,
 "nbformat_minor": 2
}
