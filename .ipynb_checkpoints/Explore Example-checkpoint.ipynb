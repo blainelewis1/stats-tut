{
 "cells": [
  {
   "cell_type": "markdown",
   "metadata": {},
   "source": [
    "# Initialisation"
   ]
  },
  {
   "cell_type": "markdown",
   "metadata": {},
   "source": [
    "## Imports"
   ]
  },
  {
   "cell_type": "code",
   "execution_count": null,
   "metadata": {
    "collapsed": true
   },
   "outputs": [],
   "source": [
    "%load_ext rpy2.ipython"
   ]
  },
  {
   "cell_type": "code",
   "execution_count": null,
   "metadata": {
    "collapsed": true,
    "scrolled": false
   },
   "outputs": [],
   "source": [
    "%%R\n",
    "\n",
    "require(ez)\n",
    "require(dplyr)\n",
    "require(fitdistrplus)\n",
    "require(lme4)\n",
    "require(multcomp) # for glht\n",
    "require(lsmeans) # for lsm\n",
    "require(car)\n",
    "library(ARTool)\n",
    "library(reshape2)"
   ]
  },
  {
   "cell_type": "code",
   "execution_count": null,
   "metadata": {
    "collapsed": true
   },
   "outputs": [],
   "source": []
  },
  {
   "cell_type": "code",
   "execution_count": null,
   "metadata": {
    "collapsed": true
   },
   "outputs": [],
   "source": [
    "# plot inline\n",
    "%matplotlib inline\n",
    "\n",
    "from IPython.core.display import display\n",
    "\n",
    "# import librarires\n",
    "import pandas as pd\n",
    "import numpy as np\n",
    "\n",
    "import matplotlib.pyplot as plt\n",
    "import seaborn as sns\n",
    "import math\n",
    "import sys\n",
    "\n",
    "from scipy import stats \n",
    "\n",
    "from ipywidgets import interact, interactive, fixed, interact_manual\n",
    "import ipywidgets as widgets\n",
    "from pandas.api.types import CategoricalDtype\n",
    "\n",
    "from functools import partial, update_wrapper\n",
    "\n",
    "from pivottablejs import pivot_ui"
   ]
  },
  {
   "cell_type": "markdown",
   "metadata": {},
   "source": [
    "## Seaborn Setup"
   ]
  },
  {
   "cell_type": "code",
   "execution_count": null,
   "metadata": {
    "collapsed": true
   },
   "outputs": [],
   "source": [
    "####################\n",
    "### Basic Setups ###\n",
    "####################\n",
    "\n",
    "enable_saving_figures = True\n",
    "def save_figure(g, width, height, path):\n",
    "    g.set(xlabel='')\n",
    "    g.set(ylabel='')\n",
    "    g.fig.set_size_inches(width, height)\n",
    "    if enable_saving_figures:\n",
    "        g.fig.savefig(path, format='eps', dpi=1200, transparent=True)\n",
    "\n",
    "# pd.set_option('display.notebook_repr_html', True)\n",
    "# pd.set_option('display.max_columns', 50)\n",
    "\n",
    "# set seaborn styles in general\n",
    "sns.set()\n",
    "sns.set_style('whitegrid', {'legend.frameon':True})\n",
    "# sns.set_context('paper', rc={'font.size': 7, \n",
    "#                             'figure.titlesize': 'medium',\n",
    "#                             'figure.titleweight': 700,\n",
    "#                             'xtick.labelsize': 'small',\n",
    "#                             'ytick.labelsize': 'small',\n",
    "#                             'axes.labelsize': 'small',\n",
    "#                             'legend.fontsize': 'small',\n",
    "#                             'lines.linewidth': 0.5})\n",
    "\n",
    "height = 2.0 * 4\n",
    "width = 3.5 * 4\n",
    "\n",
    "fig_width_pt = 243.98238  # Get this from LaTeX using \\the\\columnwidth\n",
    "inches_per_pt = 1.0/72.27               # Convert pt to inches\n",
    "golden_mean = (math.sqrt(5)-1.0)/2.0         # Aesthetic ratio\n",
    "fig_width = fig_width_pt*inches_per_pt  # width in inches\n",
    "fig_height =fig_width*golden_mean       # height in inches\n",
    "fig_size = [fig_width,fig_height]\n",
    "\n",
    "sns.set_context('paper', rc={'font.size': 24, \n",
    "                            'figure.titlesize': 'medium',\n",
    "                            'figure.titleweight': 700,\n",
    "                            'xtick.labelsize': 'small',\n",
    "                            'ytick.labelsize': 'small',\n",
    "                            'axes.labelsize': 'small',\n",
    "                            'legend.fontsize': 'small',\n",
    "                            'lines.linewidth': 2,\n",
    "                            'figure.figsize':fig_size\n",
    "                            })\n",
    "\n",
    "\n",
    "\n",
    "\n",
    "sns.set_palette(sns.xkcd_palette(['grey']) + sns.color_palette('colorblind', 3))"
   ]
  },
  {
   "cell_type": "markdown",
   "metadata": {},
   "source": [
    "## Helper Functions"
   ]
  },
  {
   "cell_type": "code",
   "execution_count": null,
   "metadata": {
    "collapsed": true
   },
   "outputs": [],
   "source": [
    "def wrapped_partial(func, *args, **kwargs):\n",
    "    partial_func = partial(func, *args, **kwargs)\n",
    "    update_wrapper(partial_func, func)\n",
    "    return partial_func\n",
    "\n",
    "\n",
    "def explore(dv, functions):\n",
    "    for function, output in functions.items():\n",
    "        output.clear_output()\n",
    "        with output:\n",
    "            function(dv)\n",
    "\n",
    "\n",
    "def explore_functions(columns, exploratory_functions):\n",
    "    dv = widgets.Dropdown(\n",
    "        options=list(columns),\n",
    "        description='Dependent Variable:',\n",
    "    )\n",
    "\n",
    "    tab = widgets.Tab()\n",
    "    outputs = []\n",
    "\n",
    "    for _ in exploratory_functions:\n",
    "        outputs.append(widgets.Output())\n",
    "\n",
    "    tab.children = outputs\n",
    "\n",
    "    for i, f in enumerate(exploratory_functions):\n",
    "        tab.set_title(i, f.__name__)\n",
    "\n",
    "    ui = widgets.VBox([dv, tab])\n",
    "\n",
    "    functions = dict(zip(exploratory_functions, outputs))\n",
    "\n",
    "    out = widgets.interactive_output(\n",
    "        explore, {'dv': dv, 'functions': fixed(functions)})\n",
    "\n",
    "    display(ui, out)\n",
    "\n",
    "\n",
    "def outlier(df, column):\n",
    "    return ~(np.abs(df[column] - df[column].mean()) <= (3 * df[column].std()))\n",
    "\n",
    "\n",
    "def fetch_questionnaire(questionnaire_id):\n",
    "    base = 'https://docs.google.com/spreadsheets/d/<FILE_ID>/gviz/tq?tqx=out:csv'\n",
    "    return pd.read_csv(base.replace('<FILE_ID>', questionnaire_id))\n",
    "\n",
    "\n",
    "def block_dv_plot(df, dv):\n",
    "    sns.factorplot(x='block',\n",
    "                   y=dv,\n",
    "                   hue='condition',\n",
    "                   dodge=True,\n",
    "                   data=df, size=height, aspect=width / height)\n",
    "    plt.show()\n",
    "\n",
    "\n",
    "def block_dv_analysis(df, dv):\n",
    "    %R - i df - i dv twoWayAnova(df, dv)\n",
    "\n",
    "\n",
    "def dv_plot(df, dv):\n",
    "    sns.factorplot(x='condition',\n",
    "                   y=dv,\n",
    "                   data=df,\n",
    "                   kind='bar',\n",
    "                   size=height, aspect=width / height)\n",
    "    plt.show()\n",
    "\n",
    "\n",
    "def dv_analysis(df, dv):\n",
    "    %R - i df - i dv oneWayAnova(df, dv)\n",
    "\n",
    "\n",
    "def last_block(df, dv):\n",
    "    df = df[df['block'] == max(df['block'])]\n",
    "    %R - i df - i dv oneWayAnova(df, dv)"
   ]
  },
  {
   "cell_type": "code",
   "execution_count": null,
   "metadata": {
    "collapsed": true
   },
   "outputs": [],
   "source": [
    "%%R \n",
    "oneWayAnova <- function(df, dv) {\n",
    "\n",
    "    df$condition = factor(df$condition)\n",
    "    df$participant = factor(df$participant)\n",
    "    \n",
    "    normality(df,dv)\n",
    "\n",
    "    m <- eval(\n",
    "        substitute(\n",
    "          ezANOVA(data = df, \n",
    "                  wid = participant, \n",
    "                  dv = dv, \n",
    "                  between = condition,\n",
    "                  return_aov=TRUE), \n",
    "        list(dv = dv)))\n",
    "    \n",
    "    print(m)\n",
    "#     plot(m$aov)\n",
    "    TukeyHSD(m$aov)\n",
    "    ezDesign(df, condition, dv)\n",
    "}\n",
    "\n",
    "twoWayAnova <- function(df, dv) {\n",
    "\n",
    "    df$block = factor(df$block)\n",
    "    df$condition = factor(df$condition)\n",
    "    df$participant = factor(df$participant)\n",
    "\n",
    "    interaction.plot(df$block, df$condition, df[,dv])\n",
    "    normality(df,dv)\n",
    "\n",
    "    m <- eval(\n",
    "        substitute(\n",
    "          ezANOVA(data = df, \n",
    "                  wid = participant, \n",
    "                  dv = dv, \n",
    "                  between = condition,\n",
    "                  within=block,\n",
    "                  return_aov=TRUE), \n",
    "        list(dv = dv)))\n",
    "    print(m)\n",
    "#     print(summary(m$aov))\n",
    "}\n",
    "\n",
    "normality <- function(df, dv) {\n",
    "    qqnorm(df[,dv])\n",
    "    qqline(df[,dv])    \n",
    "}"
   ]
  },
  {
   "cell_type": "markdown",
   "metadata": {},
   "source": [
    "# Data Loading + Cleaning"
   ]
  },
  {
   "cell_type": "code",
   "execution_count": null,
   "metadata": {
    "collapsed": true,
    "scrolled": false
   },
   "outputs": [],
   "source": [
    "json = pd.read_json('../scripts/parsed_trials.json')\n",
    "json.columns"
   ]
  },
  {
   "cell_type": "code",
   "execution_count": null,
   "metadata": {
    "collapsed": true
   },
   "outputs": [],
   "source": [
    "qualitative = fetch_questionnaire('18pwOH1C1Ocw0VwjzYf7NfIfoRtSxLi_1WRn3zHuNatU')\n",
    "qualitative = qualitative[~qualitative['Condition'].isnull()]"
   ]
  },
  {
   "cell_type": "code",
   "execution_count": null,
   "metadata": {
    "collapsed": true
   },
   "outputs": [],
   "source": [
    "del qualitative['Name']\n",
    "qualitative.columns\n",
    "qualitative['Condition'] = qualitative['Condition'].astype('category', ['Baseline', 'Feedback', 'FingerArc', 'FingerChord'], ordered=True)\n"
   ]
  },
  {
   "cell_type": "code",
   "execution_count": null,
   "metadata": {
    "collapsed": true
   },
   "outputs": [],
   "source": [
    "subjective = qualitative[[\"ID\", \"Condition\", 'Ease of Use', 'Ease of Learning the Technique',\n",
    "       'Ease of Memorising Shortcuts', 'Hand Fatigue', 'Eye Fatigue',\n",
    "       'Accuracy', 'Speed',\n",
    "       'How likely you will use this technique in real life?',\n",
    "       'Preference for Primary Posture', 'Preference for Secondary Posture',\n",
    "       'Preference for Tertiary Posture', 'Preference for Quaternary Posture']]\n",
    "\n",
    "\n",
    "subjective = pd.melt(subjective, id_vars=[\"ID\", \"Condition\"], var_name=\"Var\", value_name=\"Value\")\n"
   ]
  },
  {
   "cell_type": "code",
   "execution_count": null,
   "metadata": {
    "collapsed": true
   },
   "outputs": [],
   "source": [
    "# json['rawLogs'][0]"
   ]
  },
  {
   "cell_type": "code",
   "execution_count": null,
   "metadata": {
    "collapsed": true
   },
   "outputs": [],
   "source": [
    "json['recall'] = json.isSuccessfulRecall.map(int)\n",
    "json['condition'] = json['condition'].astype('category', ['Baseline', 'Feedback', 'FingerArc', 'FingerChord'], ordered=True)\n",
    "\n",
    "del json['rawLogs']\n",
    "del json['attempts']"
   ]
  },
  {
   "cell_type": "code",
   "execution_count": null,
   "metadata": {
    "collapsed": true
   },
   "outputs": [],
   "source": [
    "def codeAttempt(row):\n",
    "    if row['checkedLinearMenu']:\n",
    "        return 'linear_menu'\n",
    "    if row['checkedShortcutInterface']:\n",
    "        return 'shortcut_interface'\n",
    "    else:\n",
    "        return 'expert'"
   ]
  },
  {
   "cell_type": "code",
   "execution_count": null,
   "metadata": {
    "collapsed": true
   },
   "outputs": [],
   "source": [
    "training = json[json['block_type'] == 'training'].copy()\n",
    "training['expert_use'] = training['recall']\n",
    "training['no_errors'] = training['errors'] == 0\n",
    "\n",
    "\n",
    "training['Condition'] = training['condition']\n",
    "training['Grouped'] = training['grouped'].map(lambda x: 'Grouped' if x else 'Ungrouped').astype('category', ['Ungrouped', 'Grouped'])\n",
    "\n",
    "\n",
    "training['selection_type'] = training.apply(codeAttempt, axis=1)\n",
    "training['selection_type'] = training['selection_type'].astype('category', ['linear_menu', 'shortcut_interface', 'expert'], ordered=True)\n",
    "training['Total Task Time'] = training['totalTaskTime']\n",
    "training['one_error'] = training['errors'].astype(bool).astype(int)\n",
    "training['expert_attempt'] = training['selection_type'] == 'expert'\n",
    "\n",
    "training['before_distractor'] = training['block'] < 8\n",
    "training['total_expert_use'] = training['expert_use'].cumsum()\n",
    "\n",
    "training['total_expert_use'] = training.groupby(['participant', 'block'])['expert_use'].cumsum()\n",
    "training['total_expert_use_command'] = training.groupby(['participant', 'shortcut'])['expert_use'].cumsum()\n",
    "\n",
    "# training['percent_expert_use'] = training['total_expert_use'] / training.groupby(['participant', 'block'])['expert_use'].sum()\n",
    "training['trial_total'] = training['block'] * training['trial']\n",
    "training['used_linear_menu'] = training['selection_type'] == 'linear_menu'\n",
    "training['expert_use_sum'] = training['expert_use'].copy()\n",
    "\n",
    "del training['totalTime']\n",
    "\n",
    "training['guided'] = training['condition'].map(lambda x: 'unguided' if x == 'Baseline' else 'guided')\n",
    "#TODO: extract expert mode out\n",
    "training['multiple_modes'] = training['checkedLinearMenu'].astype(int) + training['checkedShortcutInterface'].astype(int)\n",
    "\n",
    "training['dismissedAny'] = (training['dismissedLinearMenu'] | training['dismissedShortcutInterface']).astype(int)"
   ]
  },
  {
   "cell_type": "code",
   "execution_count": null,
   "metadata": {
    "collapsed": true
   },
   "outputs": [],
   "source": [
    "training.columns"
   ]
  },
  {
   "cell_type": "code",
   "execution_count": null,
   "metadata": {
    "collapsed": true
   },
   "outputs": [],
   "source": [
    "training.to_csv('training.csv')"
   ]
  },
  {
   "cell_type": "markdown",
   "metadata": {},
   "source": [
    "## Outliers"
   ]
  },
  {
   "cell_type": "code",
   "execution_count": null,
   "metadata": {
    "collapsed": true
   },
   "outputs": [],
   "source": [
    "# training = training[~outlier(training, 'finalTaskTime')]\n",
    "# training = training[~outlier(training, 'errors')]"
   ]
  },
  {
   "cell_type": "code",
   "execution_count": null,
   "metadata": {
    "collapsed": true
   },
   "outputs": [],
   "source": [
    "test = json[json['block_type'] == 'test'].copy()\n",
    "\n",
    "\n",
    "test['Grouped'] = test['grouped'].map(lambda x: 'Grouped' if x else 'Ungrouped').astype('category', ['Ungrouped', 'Grouped'])\n"
   ]
  },
  {
   "cell_type": "markdown",
   "metadata": {},
   "source": [
    "## Grouping"
   ]
  },
  {
   "cell_type": "code",
   "execution_count": null,
   "metadata": {
    "collapsed": true
   },
   "outputs": [],
   "source": [
    "training.columns"
   ]
  },
  {
   "cell_type": "code",
   "execution_count": null,
   "metadata": {
    "collapsed": true,
    "scrolled": false
   },
   "outputs": [],
   "source": [
    "training['finalTaskTimeMedian'] = training['finalTaskTime'].copy()\n",
    "training['finalReferenceTimeMedian'] = training['finalReferenceTime'].copy()\n",
    "\n",
    "training['finalTaskTimeMean'] = training['finalTaskTime'].copy()\n",
    "training['finalReferenceTimeMean'] = training['finalReferenceTime'].copy()\n",
    "\n",
    "    \n",
    "\n",
    "# def trial_expert_percent(x):\n",
    "#     return x.sum() / len(training['trial'].unique())\n",
    "\n",
    "training_quantitative_columns = {'errors' : 'mean', \n",
    "                                 'one_error' : 'mean',\n",
    "                                 'expert_use' : 'mean', \n",
    "                                 'expert_attempt' : 'mean', \n",
    "\n",
    "                                 'expert_use_sum' : 'sum', \n",
    "\n",
    "#                                  'error_attempts' : error_attempts,\n",
    "                                 'dismissedAny' : 'mean',\n",
    "                                 'dismissedLinearMenu' : 'mean',\n",
    "                                 'dismissedShortcutInterface' : 'mean',\n",
    "                                 'totalTaskTime' : 'median', \n",
    "                                 'used_linear_menu' : 'mean',\n",
    "                                 'Total Task Time' : 'median', \n",
    "                                 'finalTaskTimeMedian' : 'median', \n",
    "                                 'finalReferenceTimeMedian' : 'median', \n",
    "                                 'finalTaskTimeMean' : 'mean', \n",
    "                                 'finalReferenceTimeMean' : 'mean'}\n",
    "\n",
    "\n",
    "training_grouped =  training.groupby(['condition', 'block', 'participant'], as_index=False).agg(training_quantitative_columns)\n",
    "training_all =  training.groupby(['condition', 'participant'], as_index=False).agg(training_quantitative_columns)\n",
    "\n",
    "training_selection_all =  training.groupby(['condition', 'participant', 'selection_type'], as_index=False).agg(training_quantitative_columns)\n",
    "training_selection_blocked =  training.groupby(['condition', 'participant' , 'block', 'selection_type'], as_index=False).agg(training_quantitative_columns)\n",
    "training_participant_block = training.groupby(['participant', 'block'], as_index=False).agg(training_quantitative_columns)"
   ]
  },
  {
   "cell_type": "code",
   "execution_count": null,
   "metadata": {
    "collapsed": true,
    "scrolled": false
   },
   "outputs": [],
   "source": [
    "test['finalTaskTimeMedian'] = test['finalTaskTime'].copy()\n",
    "test['finalReferenceTimeMedian'] = test['finalReferenceTime'].copy()\n",
    "test['totalTimeMedian'] = test['totalTime'].copy()\n",
    "\n",
    "test['finalTaskTimeMean'] = test['finalTaskTime'].copy()\n",
    "test['finalReferenceTimeMean'] = test['finalReferenceTime'].copy()\n",
    "test['totalTimeMean'] = test['totalTime'].copy()\n",
    "\n",
    "test_quantitative_columns = {'recall' : 'sum',\n",
    "                             'finalTaskTimeMedian' : 'median', \n",
    "                             'finalReferenceTimeMedian' : 'median', \n",
    "                             'finalTaskTimeMean' : 'mean', \n",
    "                             'finalReferenceTimeMean' : 'mean'\n",
    "                            }\n",
    "test_grouped =  test.groupby(['condition', 'block', 'participant'], as_index=False).agg(test_quantitative_columns)\n",
    "test_all =  test.groupby(['condition', 'participant'], as_index=False).agg(test_quantitative_columns)\n",
    "\n",
    "test_participant_block = training.groupby(['participant', 'block'], as_index=False).agg(test_quantitative_columns)"
   ]
  },
  {
   "cell_type": "markdown",
   "metadata": {},
   "source": [
    "# Analysis"
   ]
  },
  {
   "cell_type": "markdown",
   "metadata": {},
   "source": [
    "## Exploratory"
   ]
  },
  {
   "cell_type": "markdown",
   "metadata": {},
   "source": [
    "### Design"
   ]
  },
  {
   "cell_type": "code",
   "execution_count": null,
   "metadata": {
    "collapsed": true
   },
   "outputs": [],
   "source": [
    "%%R -i test\n",
    "\n",
    "ezDesign(test, block, condition)"
   ]
  },
  {
   "cell_type": "code",
   "execution_count": null,
   "metadata": {
    "collapsed": true
   },
   "outputs": [],
   "source": [
    "%%R -i test\n",
    "\n",
    "ezDesign(training, block, grouped, condition)"
   ]
  },
  {
   "cell_type": "code",
   "execution_count": null,
   "metadata": {
    "collapsed": true
   },
   "outputs": [],
   "source": [
    "%%R -i training\n",
    "\n",
    "ezDesign(training, block, condition, grouped, frequency)"
   ]
  },
  {
   "cell_type": "code",
   "execution_count": null,
   "metadata": {
    "collapsed": true
   },
   "outputs": [],
   "source": [
    "%%R -i test\n",
    "\n",
    "ezDesign(test, trial, block, condition)"
   ]
  },
  {
   "cell_type": "code",
   "execution_count": null,
   "metadata": {
    "collapsed": true
   },
   "outputs": [],
   "source": [
    "%%R -i training \n",
    "ezDesign(training, trial, block, condition)"
   ]
  },
  {
   "cell_type": "markdown",
   "metadata": {
    "collapsed": true
   },
   "source": [
    "### Explore"
   ]
  },
  {
   "cell_type": "code",
   "execution_count": null,
   "metadata": {
    "collapsed": true
   },
   "outputs": [],
   "source": [
    "training['erroredLinearMenu'] = training['erroredLinearMenu'].map(int)"
   ]
  },
  {
   "cell_type": "code",
   "execution_count": null,
   "metadata": {
    "collapsed": true
   },
   "outputs": [],
   "source": [
    "training[['erroredLinearMenu', 'condition']].groupby('condition').agg([np.mean, np.std])"
   ]
  },
  {
   "cell_type": "code",
   "execution_count": null,
   "metadata": {
    "collapsed": true
   },
   "outputs": [],
   "source": [
    "training[['erroredLinearMenu']].agg([np.mean, np.std])"
   ]
  },
  {
   "cell_type": "code",
   "execution_count": null,
   "metadata": {
    "collapsed": true
   },
   "outputs": [],
   "source": [
    "sns.factorplot(x='block', y=\"erroredLinearMenu\", hue=\"condition\",kind='bar', data=training, size=height, aspect=width/height)\n"
   ]
  },
  {
   "cell_type": "code",
   "execution_count": null,
   "metadata": {
    "collapsed": true
   },
   "outputs": [],
   "source": [
    "shortcut_training = training.groupby(['participant', 'condition', 'grouped', 'shortcut'], as_index=False)\n",
    "cumcount = shortcut_training.cumcount()\n",
    "\n",
    "training['times_seen'] = cumcount + 1\n",
    "\n",
    "shortcut_training = training[training['shortcut'] != ''].groupby(['participant', 'condition', 'grouped', 'shortcut'], as_index=False)"
   ]
  },
  {
   "cell_type": "code",
   "execution_count": null,
   "metadata": {
    "collapsed": true,
    "scrolled": false
   },
   "outputs": [],
   "source": [
    "def find_first_and_last_uses(x):\n",
    "#     'linear_menu', 'shortcut_interface', 'expert'\n",
    "    x = x.set_index('times_seen')\n",
    "    \n",
    "    for index, row in x.iterrows():\n",
    "        if row['selection_type'] == 'expert' and not 'first_expert' in x.columns:\n",
    "            x['first_expert'] = index\n",
    "            x['first_expert_time'] = row['totalTaskTime']\n",
    "        elif row['selection_type'] == 'shortcut_interface':\n",
    "            if not 'first_expert' in x.columns:\n",
    "                x['first_shortcut_interface'] = index\n",
    "                x['first_shortcut_interface_time'] = row['totalTaskTime']\n",
    "\n",
    "            x['last_shortcut_interface'] = index\n",
    "            x['last_shortcut_interface_time'] = row['totalTaskTime']\n",
    "        else:\n",
    "            x['last_linear_menu'] = index\n",
    "            x['last_linear_menu_time'] = row['totalTaskTime']\n",
    "\n",
    "    return x\n",
    "\n",
    "df = shortcut_training.apply(find_first_and_last_uses).reset_index()\n",
    "df['transition_length'] = df['last_linear_menu'] - df['first_expert']\n",
    "df['transition_time_diff'] =  df['last_linear_menu_time'] - df['first_expert_time']\n",
    "# df['transition_time_diff'] = df['']\n",
    "\n",
    "t = df.groupby(['condition', 'participant', 'shortcut'], as_index=False).median()"
   ]
  },
  {
   "cell_type": "code",
   "execution_count": null,
   "metadata": {
    "collapsed": true
   },
   "outputs": [],
   "source": [
    "sns.factorplot(hue='condition', x='grouped', y='first_shortcut_interface', kind='bar', data=t, size=height, aspect=width/height)"
   ]
  },
  {
   "cell_type": "code",
   "execution_count": null,
   "metadata": {
    "collapsed": true
   },
   "outputs": [],
   "source": [
    "sns.factorplot(x='condition', y='transition_length', kind='bar', data=t, size=height, aspect=width/height)"
   ]
  },
  {
   "cell_type": "code",
   "execution_count": null,
   "metadata": {
    "collapsed": true
   },
   "outputs": [],
   "source": [
    "sns.factorplot(x='condition',  y='transition_time_diff', kind='bar', data=t, size=height, aspect=width/height)"
   ]
  },
  {
   "cell_type": "code",
   "execution_count": null,
   "metadata": {
    "collapsed": true,
    "scrolled": false
   },
   "outputs": [],
   "source": [
    "#  # participants = [0, 8, 16, 24]\n",
    "# participants = [8]\n",
    "# participant = 2\n",
    "\n",
    "# blue = sns.xkcd_rgb[\"blue\"]\n",
    "# for participant in participants:\n",
    "#     shortcuts = training[training['participant'] == participant]['shortcut'].unique()\n",
    "#     shortcut = shortcuts[0]\n",
    "\n",
    "#     for shortcut in shortcuts:\n",
    "#         fig, ax = plt.subplots()\n",
    "\n",
    "#         # for participant, for shortcut\n",
    "\n",
    "#         dff = training[(training['participant'] == participant) & (training['shortcut'] == shortcut)]\n",
    "\n",
    "#         sns.pointplot(y='totalTaskTime', x='times_seen', data=dff, ax=ax, color=blue)\n",
    "#         ax2 = ax.twinx()\n",
    "#         sns.pointplot(y='expert_use', x='times_seen', data=dff, ax=ax2)\n",
    "\n",
    "#         p = t[(t['participant'] == participant) & (t['shortcut'] == shortcut)]\n",
    "        \n",
    "#         if len(p) == 0:\n",
    "#             print(participant, 'shortcut: ', shortcut)\n",
    "#             print('none')\n",
    "#             continue\n",
    "#         # display(shortcut_training['participant'] == 0)\n",
    "#         # display(shortcut_training['shortcut'] == 'p1')\n",
    "#         print(p['novice_transition'].iloc[0])\n",
    "#         print(p['expert_transition'].iloc[0])\n",
    "#         ax.axvline(p['novice_transition'].iloc[0], linestyle='--')\n",
    "#         ax.axvline(p['expert_transition'].iloc[0], linestyle='--')"
   ]
  },
  {
   "cell_type": "code",
   "execution_count": null,
   "metadata": {
    "collapsed": true
   },
   "outputs": [],
   "source": [
    "# sns.pointplot(y='selection_type', x='times_seen', col='shortcut', col_wrap=3, data=training[training['participant'] == 0])\n",
    "training[training['participant'] == 0]['times_seen']"
   ]
  },
  {
   "cell_type": "code",
   "execution_count": null,
   "metadata": {
    "collapsed": true,
    "scrolled": false
   },
   "outputs": [],
   "source": [
    "exploratory_functions = [wrapped_partial(block_dv_plot, training_grouped), wrapped_partial(block_dv_analysis, training_grouped), wrapped_partial(dv_plot, training_all), wrapped_partial(dv_analysis, training_all), wrapped_partial(last_block, training_grouped)]\n",
    "explore_functions(training_quantitative_columns.keys(), exploratory_functions)"
   ]
  },
  {
   "cell_type": "code",
   "execution_count": null,
   "metadata": {
    "collapsed": true
   },
   "outputs": [],
   "source": [
    "def factorplot(x, y, hue, col, row, data, kind):\n",
    "    grouping = [c for c in [x, hue, col, row] if c]\n",
    "    grouping.append('participant')\n",
    "    df = data.groupby(grouping, as_index=False).agg(quantitative_columns)\n",
    "    col_wrap = 2 if col and not row else None\n",
    "    print(df.columns)\n",
    "    sns.factorplot(x=x, \n",
    "                   y=y, \n",
    "                   col=col, \n",
    "                   hue=hue,\n",
    "                   row=row, \n",
    "                   data=df, \n",
    "                   col_wrap=col_wrap,\n",
    "                   kind=kind,\n",
    "                   dodge=True,\n",
    "                   size=height, aspect=width/height)\n",
    "    plt.show()\n",
    "kind=['point', 'bar', 'count', 'box', 'violin', 'strip']\n",
    "quantitative_columns = training_quantitative_columns\n",
    "grouping_factors= ['grouped', 'frequency', 'participant', 'condition', 'block', 'trial', None]\n",
    "interact(factorplot, data=fixed(training), row=grouping_factors, col=grouping_factors, hue=grouping_factors, x=grouping_factors, y=quantitative_columns.keys(), kind=kind)\n",
    "# sns.factorplot(x='block', y='errors', data=training)"
   ]
  },
  {
   "cell_type": "code",
   "execution_count": null,
   "metadata": {
    "collapsed": true
   },
   "outputs": [],
   "source": [
    "exploratory_functions = [wrapped_partial(block_dv_plot, test_grouped), wrapped_partial(block_dv_analysis, test_grouped), wrapped_partial(dv_plot, test_all), wrapped_partial(dv_analysis, test_all), wrapped_partial(last_block, test_grouped)]\n",
    "explore_functions(test_quantitative_columns.keys(), exploratory_functions)"
   ]
  },
  {
   "cell_type": "markdown",
   "metadata": {},
   "source": [
    "### Condition X Block X Grouped X Frequency"
   ]
  },
  {
   "cell_type": "code",
   "execution_count": null,
   "metadata": {
    "collapsed": true
   },
   "outputs": [],
   "source": [
    "sns.factorplot(x='grouped', y=\"finalTaskTime\", hue=\"condition\", col='frequency', kind='bar', data=training, size=height, aspect=width/height)\n"
   ]
  },
  {
   "cell_type": "code",
   "execution_count": null,
   "metadata": {
    "collapsed": true
   },
   "outputs": [],
   "source": [
    "%%R -i training\n",
    "\n",
    "training$block = factor(training$block)\n",
    "training$condition = factor(training$condition)\n",
    "training$participant = factor(training$participant)\n",
    "training$grouped = factor(training$grouped)\n",
    "training$frequency = factor(training$frequency)\n",
    "\n",
    "\n",
    "ezANOVA(data = training, \n",
    "          wid = participant, \n",
    "          dv = finalTaskTimeMedian, \n",
    "          between = condition,\n",
    "          within=c(frequency, grouped),\n",
    "          return_aov=TRUE)"
   ]
  },
  {
   "cell_type": "markdown",
   "metadata": {},
   "source": [
    "### Qualitative"
   ]
  },
  {
   "cell_type": "code",
   "execution_count": null,
   "metadata": {
    "collapsed": true
   },
   "outputs": [],
   "source": [
    "qualitative['use'] = qualitative['Ease of Use']\n",
    "qualitative['learning'] = qualitative['Ease of Learning the Technique']\n",
    "qualitative['memorising'] = qualitative['Ease of Memorising Shortcuts']\n",
    "qualitative['hand'] = qualitative['Hand Fatigue']\n",
    "qualitative['eye'] = qualitative['Eye Fatigue']\n",
    "qualitative['likely'] = qualitative['How likely you will use this technique in real life?']\n",
    "qualitative['primary'] = qualitative['Preference for Primary Posture']\n",
    "qualitative['secondary'] = qualitative['Preference for Secondary Posture']\n",
    "qualitative['tertiary'] = qualitative['Preference for Tertiary Posture']\n",
    "qualitative['quaternary'] = qualitative['Preference for Quaternary Posture']"
   ]
  },
  {
   "cell_type": "code",
   "execution_count": null,
   "metadata": {
    "collapsed": true,
    "scrolled": false
   },
   "outputs": [],
   "source": [
    "%%R -i qualitative\n",
    "\n",
    "qualitative$Condition = factor(qualitative$Condition)\n",
    "\n",
    "# # print(kruskal.test(Accuracy ~ Condition, data=qualitative))\n",
    "# # print(kruskal.test(Speed ~ Condition, data=qualitative))\n",
    "# print(kruskal.test(use ~ Condition, data=qualitative))\n",
    "# print(kruskal.test(learning ~ Condition, data=qualitative))\n",
    "# # print(kruskal.test(memorising ~ Condition, data=qualitative))\n",
    "# # print(kruskal.test(hand ~ Condition, data=qualitative))\n",
    "# # print(kruskal.test(eye ~ Condition, data=qualitative))\n",
    "# # print(kruskal.test(likely ~ Condition, data=qualitative))\n",
    "# print(kruskal.test(primary ~ Condition, data=qualitative))\n",
    "# # print(kruskal.test(secondary ~ Condition, data=qualitative))\n",
    "# # print(kruskal.test(tertiary ~ Condition, data=qualitative))\n",
    "# # print(kruskal.test(quaternary ~ Condition, data=qualitative))\n",
    "\n",
    "# pairwise.wilcox.test(qualitative$primary, qualitative$Condition, p.adj=\"holm\", exact=F)\n",
    "\n",
    "\n",
    "# print(anova(art(Accuracy ~ Condition, data=qualitative)))\n",
    "# print(anova(art(Speed ~ Condition, data=qualitative)))\n",
    "m <- art(use ~ Condition, data=qualitative)\n",
    "print(anova(m))\n",
    "print(shapiro.test(residuals(m))) # normality?\n",
    "qqnorm(residuals(m)); qqline(residuals(m)) # seems to conform\n",
    "\n",
    "m <- art(learning ~ Condition, data=qualitative)\n",
    "print(anova(m))\n",
    "print(shapiro.test(residuals(m))) # normality?\n",
    "qqnorm(residuals(m)); qqline(residuals(m)) # seems to conform\n",
    "\n",
    "# print(anova(art(memorising ~ Condition, data=qualitative)))\n",
    "# print(anova(art(hand ~ Condition, data=qualitative)))\n",
    "# print(anova(art(eye ~ Condition, data=qualitative)))\n",
    "# print(anova(art(likely ~ Condition, data=qualitative)))\n",
    "m <- art(primary ~ Condition, data=qualitative)\n",
    "print(anova(m))\n",
    "print(shapiro.test(residuals(m))) # normality?\n",
    "qqnorm(residuals(m)); qqline(residuals(m)) # seems to conform\n",
    "\n",
    "# print(anova(art(secondary ~ Condition, data=qualitative)))\n",
    "# print(anova(art(tertiary ~ Condition, data=qualitative)))\n",
    "# print(anova(art(quaternary ~ Condition, data=qualitative)))\n"
   ]
  },
  {
   "cell_type": "code",
   "execution_count": null,
   "metadata": {
    "collapsed": true
   },
   "outputs": [],
   "source": [
    "sns.barplot(x=\"Condition\", y=\"use\", data=qualitative)"
   ]
  },
  {
   "cell_type": "code",
   "execution_count": null,
   "metadata": {
    "collapsed": true
   },
   "outputs": [],
   "source": [
    "sns.barplot(x=\"Condition\", y=\"learning\", data=qualitative)"
   ]
  },
  {
   "cell_type": "code",
   "execution_count": null,
   "metadata": {
    "collapsed": true
   },
   "outputs": [],
   "source": [
    "sns.barplot(x=\"Condition\", y=\"primary\", data=qualitative)"
   ]
  },
  {
   "cell_type": "code",
   "execution_count": null,
   "metadata": {
    "collapsed": true
   },
   "outputs": [],
   "source": [
    "g = sns.pointplot(x='block', y='numAttempts', hue='condition', data=training, legend=False)\n",
    "g.legend_.remove()\n"
   ]
  },
  {
   "cell_type": "markdown",
   "metadata": {},
   "source": [
    "### Test"
   ]
  },
  {
   "cell_type": "code",
   "execution_count": null,
   "metadata": {
    "collapsed": true
   },
   "outputs": [],
   "source": [
    "sns.factorplot(x='block', y=\"recall\", hue=\"condition\", row='grouped', col='frequency', kind='bar', data=test, size=height, aspect=width/height)\n"
   ]
  },
  {
   "cell_type": "code",
   "execution_count": null,
   "metadata": {
    "collapsed": true
   },
   "outputs": [],
   "source": [
    "sns.factorplot(x='block', y=\"recall\", hue=\"condition\", col='grouped', col_wrap=2, kind='bar', data=test, size=height, aspect=width/height)\n"
   ]
  },
  {
   "cell_type": "code",
   "execution_count": null,
   "metadata": {
    "collapsed": true
   },
   "outputs": [],
   "source": [
    "sns.factorplot(x='block', y=\"recall\", hue=\"condition\", col='frequency', col_wrap=2, kind='bar', data=test, size=height, aspect=width/height)\n"
   ]
  },
  {
   "cell_type": "markdown",
   "metadata": {},
   "source": [
    "### Time Regression"
   ]
  },
  {
   "cell_type": "code",
   "execution_count": null,
   "metadata": {
    "collapsed": true
   },
   "outputs": [],
   "source": [
    "df = training.groupby(['condition', 'participant', 'block'], as_index=False).agg(training_quantitative_columns)"
   ]
  },
  {
   "cell_type": "code",
   "execution_count": null,
   "metadata": {
    "collapsed": true,
    "scrolled": false
   },
   "outputs": [],
   "source": [
    "# %%R -i df\n",
    "\n",
    "# df$logTotalTaskTime = log(df$totalTaskTime)\n",
    "\n",
    "# for(condition in unique(df$condition)) {\n",
    "#     print('----------')\n",
    "#     print(condition)\n",
    "#     print('----------')\n",
    "    \n",
    "#     m <- lm(logTotalTaskTime ~ block, data=df[df$condition == condition, ])\n",
    "#     print(summary(m))\n",
    "#     plot(df$block, df$logTotalTaskTime)\n",
    "#     abline(m)\n",
    "# }\n"
   ]
  },
  {
   "cell_type": "code",
   "execution_count": null,
   "metadata": {
    "collapsed": true
   },
   "outputs": [],
   "source": [
    "%%R -i df\n",
    "\n",
    "options(contrasts=c('contr.sum','contr.poly'))\n",
    "\n",
    "df$condition = factor(df$condition, ordered = FALSE)\n",
    "\n",
    "df$logTotalTaskTime = log(df$totalTaskTime)\n",
    "m <- lm(logTotalTaskTime ~ condition + block - 1, data=df)\n",
    "print(summary(m))\n",
    "summary(aov(m))"
   ]
  },
  {
   "cell_type": "code",
   "execution_count": null,
   "metadata": {
    "collapsed": true
   },
   "outputs": [],
   "source": [
    "%%R -i df\n",
    "\n",
    "options(contrasts=c('contr.sum','contr.poly'))\n",
    "\n",
    "df$condition = factor(df$condition, ordered = FALSE)\n",
    "\n",
    "df$logTotalTaskTime = log(df$totalTaskTime)\n",
    "m <- lm(logTotalTaskTime ~ condition * block, data=df)\n",
    "print(summary(m))\n",
    "summary(aov(m))"
   ]
  },
  {
   "cell_type": "code",
   "execution_count": null,
   "metadata": {
    "collapsed": true
   },
   "outputs": [],
   "source": [
    "df = training.groupby(['condition', 'participant', 'block', 'grouped'], as_index=False).agg(training_quantitative_columns)"
   ]
  },
  {
   "cell_type": "code",
   "execution_count": null,
   "metadata": {
    "collapsed": true,
    "scrolled": false
   },
   "outputs": [],
   "source": [
    "%%R -i df\n",
    "\n",
    "options(contrasts=c('contr.sum','contr.poly'))\n",
    "\n",
    "df$condition = factor(df$condition, ordered = FALSE)\n",
    "df <- df[df$grouped == FALSE,]\n",
    "# df$logTotalTaskTime = log(df$totalTaskTime)\n",
    "\n",
    "m <- lm(log(totalTaskTime) ~ condition * log(block) - 1, data=df)\n",
    "print(summary(m))\n",
    "print(summary(aov(m)))\n",
    "# print(lsmeans(m, list(pairwise ~ condition), adjust = \"tukey\"))\n",
    "\n",
    "# qplot(x = block, y = logTotalTaskTime, data = df, color = condition) +\n",
    "#   geom_smooth(method = \"lm\") \n",
    "\n",
    "\n",
    "ggplot(df, aes(x=log(block), y=log(totalTaskTime))) + \n",
    "    geom_point() + \n",
    "    stat_smooth(method=lm) + \n",
    "    geom_line(aes(y=.fitted), colour=\"red\", data=m) +\n",
    "    facet_grid(. ~ factor(condition))\n",
    "# qplot(x = block, y = totalTaskTime, data = df, color = condition) +\n",
    "#   geom_smooth(method = \"auto\") "
   ]
  },
  {
   "cell_type": "code",
   "execution_count": null,
   "metadata": {
    "collapsed": true,
    "scrolled": false
   },
   "outputs": [],
   "source": [
    "%%R -i df\n",
    "require(minpack.lm)\n",
    "# https://stackoverflow.com/questions/9237068/r-power-fit-with-nls-different-from-excellibrary(\"poweRlaw\")\n",
    "df$condition = factor(df$condition, ordered = FALSE)\n",
    "df <- df[df$grouped == FALSE,]\n",
    "\n",
    "\n",
    "dfb <- df[df$condition == 'Baseline',]\n",
    "# print(summary(lm(log(totalTaskTime) ~ log(block), data=dfb)))\n",
    "print(summary(nlsLM(totalTaskTime ~ a * block^-b + c, data=dfb, start=list(a=exp(0.33381), b=2.011, c=1))))\n",
    "\n",
    "# print(summary(nls(totalTaskTime ~ a * block^b, data=dfb, start=list(a=exp(0.33381), b=-2.011))))\n",
    "# df$logTotalTaskTime = log(df$totalTaskTime)\n",
    "\n",
    "# exp(0.33381)\n",
    "# -2.011"
   ]
  },
  {
   "cell_type": "markdown",
   "metadata": {},
   "source": [
    "### Modality"
   ]
  },
  {
   "cell_type": "code",
   "execution_count": null,
   "metadata": {
    "collapsed": true
   },
   "outputs": [],
   "source": [
    "df = training[['condition', 'participant', 'block', 'trial', 'selection_type']].copy()\n",
    "df['shortcut_interface'] = (df['selection_type'] == 'shortcut_interface').map(int)\n",
    "df['expert'] = (df['selection_type'] == 'expert').map(int)\n",
    "df['linear_menu'] = (df['selection_type'] == 'linear_menu').map(int)\n",
    "\n",
    "del df['selection_type']\n",
    "\n",
    "df = df.melt(id_vars=['condition', 'participant', 'block', 'trial'], value_name='used', var_name='type')\n",
    "dff = df.groupby(['condition', 'participant', 'block', 'type'], as_index=False).sum()\n",
    "\n",
    "sns.factorplot(x='block', \n",
    "               hue='condition', \n",
    "               y='used', \n",
    "               col='type', \n",
    "               col_wrap=2,  \n",
    "               data=dff, \n",
    "               kind='bar', \n",
    "               size=height,\n",
    "               aspect=width/height)"
   ]
  },
  {
   "cell_type": "code",
   "execution_count": null,
   "metadata": {
    "collapsed": true
   },
   "outputs": [],
   "source": [
    "fig, ax = plt.subplots()\n",
    "d = training.groupby(['condition', 'participant', 'block'], as_index=False).agg(training_quantitative_columns)\n",
    "sns.plotting_context(\"notebook\")\n",
    "with sns.color_palette(sns.xkcd_palette(['grey']) + sns.color_palette('colorblind', 3), desat=0.75) :\n",
    "    sns.barplot(x='block', \n",
    "                   hue='condition', \n",
    "                   y='expert_use', \n",
    "                   data=d, \n",
    "                    ci=None,\n",
    "    #                kind='bar', \n",
    "    #                size=height,\n",
    "    #                aspect=width/height,\n",
    "    #                 legend=False,\n",
    "                    )\n",
    "\n",
    "sns.pointplot(x='block',\n",
    "              hue='condition',\n",
    "              y='totalTaskTime', \n",
    "              data = d,\n",
    "#               size=height,\n",
    "#               aspect=width/height,\n",
    "#                kind='point',\n",
    "#                legend=False,\n",
    "              )"
   ]
  },
  {
   "cell_type": "code",
   "execution_count": null,
   "metadata": {
    "collapsed": true
   },
   "outputs": [],
   "source": [
    "sns.factorplot(x='block', hue='condition', y='totalTaskTime', col='selection_type', \n",
    "              data=training.groupby(['condition', 'participant','block', 'selection_type'], as_index=False).agg(training_quantitative_columns),\n",
    "             size=height,\n",
    "               aspect=width/height)"
   ]
  },
  {
   "cell_type": "code",
   "execution_count": null,
   "metadata": {
    "collapsed": true
   },
   "outputs": [],
   "source": []
  },
  {
   "cell_type": "code",
   "execution_count": null,
   "metadata": {
    "collapsed": true
   },
   "outputs": [],
   "source": [
    "%%R -i df\n",
    "\n",
    "options(contrasts=c('contr.sum','contr.poly'))\n",
    "\n",
    "df$condition = factor(df$condition, ordered = FALSE)\n",
    "df$grouped = factor(df$grouped, ordered = FALSE)\n",
    "\n",
    "m <- lm(expert_use ~ condition + block + grouped, data=df)\n",
    "print(summary(m))\n",
    "summary(aov(m))\n",
    "\n",
    "lsmeans(m, list(pairwise ~ condition), adjust = \"tukey\")"
   ]
  },
  {
   "cell_type": "markdown",
   "metadata": {},
   "source": [
    "### Regression Models"
   ]
  },
  {
   "cell_type": "code",
   "execution_count": null,
   "metadata": {
    "collapsed": true,
    "scrolled": false
   },
   "outputs": [],
   "source": [
    "%%R -i training\n",
    "\n",
    "training$condition = factor(training$condition)\n",
    "training$block = factor(training$block)\n",
    "training$trial = factor(training$trial)\n",
    "\n",
    "m <- lmer(finalTaskTime ~ condition * grouped * block + (1|participant), data=training)\n",
    "print(summary(m))\n",
    "Anova(m)\n",
    "# m <- ezANOVA(dv=finalTaskTime, within=c(frequency, block), between=condition, wid=participant, data=training)\n",
    "# ezDesign(data=training, x=trial, y=block, row=frequency, col=condition)\n"
   ]
  },
  {
   "cell_type": "code",
   "execution_count": null,
   "metadata": {
    "collapsed": true
   },
   "outputs": [],
   "source": [
    "%%R -i training\n",
    "\n",
    "training$condition = factor(training$condition)\n",
    "training$block = factor(training$block)\n",
    "training$trial = factor(training$trial)\n",
    "\n",
    "contrasts(training$condition) <- \"contr.sum\"\n",
    "contrasts(training$block) <- \"contr.sum\"\n",
    "contrasts(training$trial) <- \"contr.sum\"\n",
    "\n",
    "m <- glmer(errors ~ condition + (1|condition:trial)+ (1|participant), family=poisson, data=training)\n",
    "\n",
    "print(Anova(m, type=3))\n",
    "\n",
    "summary(glht(m, lsm(pairwise ~ condition)), test=adjusted(type=\"holm\"))"
   ]
  },
  {
   "cell_type": "code",
   "execution_count": null,
   "metadata": {
    "collapsed": true
   },
   "outputs": [],
   "source": [
    "%%R -i training\n",
    "\n",
    "training$condition = factor(training$condition)\n",
    "training$block = factor(training$block)\n",
    "training$trial = factor(training$trial)\n",
    "\n",
    "contrasts(training$condition) <- \"contr.sum\"\n",
    "contrasts(training$block) <- \"contr.sum\"\n",
    "contrasts(training$trial) <- \"contr.sum\"\n",
    "\n",
    "# m <- lmer(totalTimeMedian ~ condition / trial + (1|participant), data=training)\n",
    "m <- glmer(recall ~ condition + (1|condition:trial)+ (1|participant), family=binomial(link=\"logit\"), data=training)\n",
    "\n",
    "print(Anova(m, type=3))\n",
    "\n",
    "summary(glht(m, lsm(pairwise ~ condition)), test=adjusted(type=\"holm\"))"
   ]
  },
  {
   "cell_type": "code",
   "execution_count": null,
   "metadata": {
    "collapsed": true
   },
   "outputs": [],
   "source": [
    "%%R -i training\n",
    "\n",
    "training$condition = factor(training$condition)\n",
    "training$block = factor(training$block)\n",
    "training$trial = factor(training$trial)\n",
    "\n",
    "contrasts(training$condition) <- \"contr.sum\"\n",
    "contrasts(training$block) <- \"contr.sum\"\n",
    "contrasts(training$trial) <- \"contr.sum\"\n",
    "\n",
    "m = glmer(errors ~ (block * condition) + (1|block:condition:trial) + (1|participant), data=training, family=poisson, nAGQ=0)\n",
    "Anova(m, type=3)\n",
    "\n",
    "# with(training, interaction.plot(block, condition, errors)) # for convenience\n",
    "# summary(glht(m, lsm(pairwise ~ block * condition)), test=adjusted(type=\"holm\"))\n"
   ]
  },
  {
   "cell_type": "code",
   "execution_count": null,
   "metadata": {
    "collapsed": true
   },
   "outputs": [],
   "source": [
    "%%R -i training\n",
    "\n",
    "training$condition = factor(training$condition)\n",
    "training$block = factor(training$block)\n",
    "training$trial = factor(training$trial)\n",
    "\n",
    "contrasts(training$condition) <- \"contr.sum\"\n",
    "contrasts(training$block) <- \"contr.sum\"\n",
    "contrasts(training$trial) <- \"contr.sum\"\n",
    "\n",
    "m = glmer(successful_expert ~ (block * condition) + (1|block:condition:trial) + (1|participant), data=training, family=binomial(link=\"logit\"), nAGQ=0)\n",
    "Anova(m, type=3)\n",
    "\n",
    "# with(training, interaction.plot(block, condition, errors)) # for convenience\n",
    "# summary(glht(m, lsm(pairwise ~ block * condition)), test=adjusted(type=\"holm\"))"
   ]
  },
  {
   "cell_type": "code",
   "execution_count": null,
   "metadata": {
    "collapsed": true
   },
   "outputs": [],
   "source": [
    "%%R -i training\n",
    "\n",
    "training$condition = factor(training$condition)\n",
    "training$block = factor(training$block)\n",
    "training$trial = factor(training$trial)\n",
    "\n",
    "contrasts(training$condition) <- \"contr.sum\"\n",
    "contrasts(training$block) <- \"contr.sum\"\n",
    "contrasts(training$trial) <- \"contr.sum\"\n",
    "\n",
    "# m = glmer(successful_expert ~ (block * condition) + (1|block:condition:trial) + (1|participant), data=training, family=binomial(link=\"logit\"), nAGQ=0)\n",
    "\n",
    "# m = lmer(totalTime ~ (block * condition) + (1|block:condition:trial) + (1|participant), data=training)\n",
    "m = lmer(finalTaskTimeMedian ~ (block * condition) + (1|participant), data=training)\n",
    "\n",
    "print(Anova(m, type=3))\n",
    "\n",
    "with(training, interaction.plot(block, condition, finalTaskTimeMedian)) # for convenience\n",
    "# summary(glht(m, lsm(pairwise ~ block * condition)), test=adjusted(type=\"holm\"))\n",
    "# lsmeans(m, list(pairwise ~ block * condition), adjust = \"tukey\")\n",
    "summary(glht(m, linfct = mcp(condition = \"Tukey\")), test = adjusted(\"holm\"))"
   ]
  },
  {
   "cell_type": "markdown",
   "metadata": {},
   "source": [
    "## Final"
   ]
  },
  {
   "cell_type": "markdown",
   "metadata": {},
   "source": [
    "### Recall"
   ]
  },
  {
   "cell_type": "code",
   "execution_count": null,
   "metadata": {
    "collapsed": true,
    "scrolled": false
   },
   "outputs": [],
   "source": [
    "df = test.groupby(['condition', 'participant', 'block'], as_index=False).agg(test_quantitative_columns)\n",
    "\n",
    "sns.factorplot(x='condition', y=\"recall\", col='block', kind='bar', data=df, size=height, col_wrap=2, aspect=width/height, legend_out=False)"
   ]
  },
  {
   "cell_type": "code",
   "execution_count": null,
   "metadata": {
    "collapsed": true,
    "scrolled": false
   },
   "outputs": [],
   "source": [
    "%%R -i df\n",
    "\n",
    "df$block = factor(df$block)\n",
    "\n",
    "df$condition = factor(df$condition)\n",
    "df$participant = factor(df$participant)\n",
    "\n",
    "for (block in c(5,7, 12, 13)) {\n",
    "    blocked <- df[df$block == block,]\n",
    "\n",
    "    m <- ezANOVA(data = blocked, \n",
    "          wid = participant, \n",
    "          dv = recall, \n",
    "          between = condition,\n",
    "          return_aov=TRUE)\n",
    "\n",
    "    print(m)\n",
    "}"
   ]
  },
  {
   "cell_type": "code",
   "execution_count": null,
   "metadata": {
    "collapsed": true
   },
   "outputs": [],
   "source": [
    "df = test[test['block'] <= 7].groupby(['condition', 'participant', 'block'], as_index=False).agg(test_quantitative_columns)\n",
    "sns.factorplot(x='condition', y=\"recall\", kind='bar', data=df, size=height,aspect=width/height, legend_out=False)\n"
   ]
  },
  {
   "cell_type": "code",
   "execution_count": null,
   "metadata": {
    "collapsed": true
   },
   "outputs": [],
   "source": [
    "%%R -i df\n",
    "\n",
    "df$block = factor(df$block)\n",
    "df$condition = factor(df$condition)\n",
    "df$participant = factor(df$participant)\n",
    "\n",
    "m <- ezANOVA(data = df, \n",
    "      wid = participant, \n",
    "      dv = recall, \n",
    "      between = condition,\n",
    "      return_aov=TRUE)\n",
    "\n",
    "print(m)"
   ]
  },
  {
   "cell_type": "code",
   "execution_count": null,
   "metadata": {
    "collapsed": true
   },
   "outputs": [],
   "source": []
  },
  {
   "cell_type": "markdown",
   "metadata": {},
   "source": [
    "#### Grouped"
   ]
  },
  {
   "cell_type": "code",
   "execution_count": null,
   "metadata": {
    "collapsed": true,
    "scrolled": false
   },
   "outputs": [],
   "source": [
    "df = test.groupby(['condition', 'participant', 'block', 'Grouped'], as_index=False).agg(test_quantitative_columns)\n",
    "# df['Time Passed'] = df[\"block\"].astype('str').replace({'7' : '10 min', '13':'24 hours'})\n",
    "df['Condition'] = df['condition']\n",
    "g = sns.factorplot(x='Grouped', y=\"recall\", hue='Condition', col='block', col_wrap=2, kind='bar', data=df, size=height, aspect=width/height)\n",
    "\n",
    "g.set_axis_labels(\"\", \"Number of Shortcuts Recalled\")\n",
    "\n",
    "g.savefig('figures/recall_grouped.pdf')"
   ]
  },
  {
   "cell_type": "code",
   "execution_count": null,
   "metadata": {
    "collapsed": true,
    "scrolled": false
   },
   "outputs": [],
   "source": [
    "df = test.groupby(['condition', 'participant', 'block', 'Grouped'], as_index=False).agg(test_quantitative_columns)\n",
    "# df['Time Passed'] = df[\"block\"].astype('str').replace({'7' : '10 min', '13':'24 hours'})\n",
    "df = df[df['block'] <= 7]\n",
    "df['Condition'] = df['condition']\n",
    "g = sns.factorplot(x='Grouped', y=\"recall\", hue='Condition',  kind='bar', data=df, size=height, aspect=width/height)\n",
    "\n",
    "g.set_axis_labels(\"\", \"Number of Shortcuts Recalled\")\n"
   ]
  },
  {
   "cell_type": "code",
   "execution_count": null,
   "metadata": {
    "collapsed": true
   },
   "outputs": [],
   "source": [
    "%%R -i df\n",
    "\n",
    "df$condition = factor(df$condition)\n",
    "df$participant = factor(df$participant)\n",
    "df$Grouped = factor(df$Grouped)\n",
    "\n",
    "df7 = df[df$block <= 7,]\n",
    "m <- aov(recall ~ condition * Grouped + Error(participant / Grouped), data = df7)\n",
    "print(summary(m))\n"
   ]
  },
  {
   "cell_type": "code",
   "execution_count": null,
   "metadata": {
    "collapsed": true
   },
   "outputs": [],
   "source": [
    "df = test[test['block'].isin([7,13])].groupby(['condition', 'participant', 'block', 'Grouped', 'frequency'], as_index=False).agg(test_quantitative_columns)\n",
    "df['Time Passed'] = df[\"block\"].astype('str').replace({'7' : '10 min', '13':'24 hours'})\n",
    "df['Condition'] = df['condition']\n",
    "df = test[test['block'].isin([7,13])].groupby(['condition', 'participant', 'block', 'Grouped', 'frequency'], as_index=False).agg(test_quantitative_columns)\n",
    "df['Time Passed'] = df[\"block\"].astype('str').replace({'7' : '10 min', '13':'24 hours'})\n",
    "df['Condition'] = df['condition']\n",
    "g = sns.factorplot(x='Grouped', y=\"recall\", hue='Condition', col='frequency', row='Time Passed', kind='bar', data=df, size=height, aspect=width/height)\n",
    "\n",
    "g = sns.factorplot(x='Grouped', y=\"recall\", hue='Condition', col='frequency', row='Time Passed', kind='bar', data=df, size=height, aspect=width/height)\n",
    "\n",
    "g.set_axis_labels(\"\", \"Number of Shortcuts Recalled\")\n",
    "\n",
    "g.savefig('figures/recall_grouped.pdf')"
   ]
  },
  {
   "cell_type": "code",
   "execution_count": null,
   "metadata": {
    "collapsed": true
   },
   "outputs": [],
   "source": [
    "%%R -i df\n",
    "\n",
    "df$condition = factor(df$condition)\n",
    "df$participant = factor(df$participant)\n",
    "df$Grouped = factor(df$Grouped)\n",
    "\n",
    "df7 = df[df$block == 7,]\n",
    "df13 = df[df$block == 13,]\n",
    "\n",
    "m <- ezANOVA(data = df7, \n",
    "      wid = participant, \n",
    "      dv = recall, \n",
    "      between = condition,\n",
    "      within = Grouped,\n",
    "      return_aov=TRUE)\n",
    "\n",
    "\n",
    "print(m)\n",
    "\n",
    "m <- ezANOVA(data = df13, \n",
    "      wid = participant, \n",
    "      dv = recall, \n",
    "      between = condition,\n",
    "      within = Grouped,\n",
    "      return_aov=TRUE)\n",
    "\n",
    "\n",
    "print(m)\n",
    "\n"
   ]
  },
  {
   "cell_type": "code",
   "execution_count": null,
   "metadata": {
    "collapsed": true
   },
   "outputs": [],
   "source": []
  },
  {
   "cell_type": "code",
   "execution_count": null,
   "metadata": {
    "collapsed": true
   },
   "outputs": [],
   "source": [
    "%%R -i df\n",
    "\n",
    "df$condition = factor(df$condition)\n",
    "df$participant = factor(df$participant)\n",
    "df$Grouped = factor(df$Grouped)\n",
    "\n",
    "df7 = df[df$block == 7,]\n",
    "summary(aov(recall ~ condition * Grouped + Error(participant/Grouped), data=df7))"
   ]
  },
  {
   "cell_type": "markdown",
   "metadata": {},
   "source": [
    "### Selection Type"
   ]
  },
  {
   "cell_type": "markdown",
   "metadata": {},
   "source": [
    "#### Entire Experiment"
   ]
  },
  {
   "cell_type": "code",
   "execution_count": null,
   "metadata": {
    "collapsed": true
   },
   "outputs": [],
   "source": [
    "df = training.groupby(['condition', 'participant', 'block'], as_index=False).agg(training_quantitative_columns)\n",
    "sns.factorplot(x='block', hue='condition', kind='count', col='selection_type', col_wrap=2\n",
    "               , data=training, size=height, aspect=width/height)"
   ]
  },
  {
   "cell_type": "code",
   "execution_count": null,
   "metadata": {
    "collapsed": true
   },
   "outputs": [],
   "source": [
    "df = training"
   ]
  },
  {
   "cell_type": "code",
   "execution_count": null,
   "metadata": {
    "collapsed": true
   },
   "outputs": [],
   "source": [
    "df = training.groupby(['condition', 'participant', 'block'], as_index=False).agg(training_quantitative_columns)\n",
    "sns.factorplot(x='block', hue='selection_type', kind='count', col='condition', col_wrap=2\n",
    "               , data=training, size=height, aspect=width/height)"
   ]
  },
  {
   "cell_type": "code",
   "execution_count": null,
   "metadata": {
    "collapsed": true
   },
   "outputs": [],
   "source": [
    "df = training.copy()\n",
    "df['new'] = df['selection_type'] == 'shortcut'\n",
    "sns.factorplot(x='block', \n",
    "               hue='condition', \n",
    "               kind='count', \n",
    "               col='new', \n",
    "               data=df, \n",
    "               size=height, \n",
    "               aspect=width/height)"
   ]
  },
  {
   "cell_type": "markdown",
   "metadata": {},
   "source": [
    "### Guidance Vs. Expert"
   ]
  },
  {
   "cell_type": "markdown",
   "metadata": {},
   "source": [
    "#### Grouped Over Time"
   ]
  },
  {
   "cell_type": "code",
   "execution_count": null,
   "metadata": {
    "collapsed": true,
    "scrolled": false
   },
   "outputs": [],
   "source": [
    "df = training.groupby(['Condition', 'participant', 'block', 'Grouped'], as_index=False).agg(training_quantitative_columns)\n",
    "df['Rate of Linear Menu Use']= df['used_linear_menu']\n",
    "df['Block'] = df['block']\n",
    "\n",
    "sns.factorplot(x='block', hue='Condition', y='Rate of Linear Menu Use', row='Grouped', kind='point', data=df, size=height, aspect=width/height)\n",
    "\n",
    "\n",
    "g.set_titles(\"{row_name}\")\n",
    "g.set(ylim=(0, None))\n",
    "g.savefig('figures/linear_menu_use_grouped_block.pdf')"
   ]
  },
  {
   "cell_type": "code",
   "execution_count": null,
   "metadata": {
    "collapsed": true
   },
   "outputs": [],
   "source": [
    "%%R -i df\n",
    "\n",
    "df$Condition = factor(df$Condition)\n",
    "df$participant = factor(df$participant)\n",
    "df$Grouped = factor(df$Grouped)\n",
    "df$block = factor(df$block)\n",
    "\n",
    "m <- ezANOVA(data = df, \n",
    "      wid = participant, \n",
    "      dv = used_linear_menu, \n",
    "      between = Condition,\n",
    "      within=c(block, Grouped),\n",
    "      return_aov=TRUE)\n",
    "\n",
    "print(m)"
   ]
  },
  {
   "cell_type": "markdown",
   "metadata": {},
   "source": [
    "### Used Linear Menu"
   ]
  },
  {
   "cell_type": "markdown",
   "metadata": {},
   "source": [
    "#### Grouped Over Time"
   ]
  },
  {
   "cell_type": "code",
   "execution_count": null,
   "metadata": {
    "collapsed": true,
    "scrolled": false
   },
   "outputs": [],
   "source": [
    "df = training.groupby(['Condition', 'participant', 'block', 'Grouped'], as_index=False).agg(training_quantitative_columns)\n",
    "df['Rate of Linear Menu Use']= df['used_linear_menu']\n",
    "df['Block'] = df['block']\n",
    "\n",
    "sns.factorplot(x='block', hue='Condition', y='Rate of Linear Menu Use', row='Grouped', kind='point', data=df, size=height, aspect=width/height)\n",
    "\n",
    "\n",
    "g.set_titles(\"{row_name}\")\n",
    "g.set(ylim=(0, None))\n",
    "g.savefig('figures/linear_menu_use_grouped_block.pdf')"
   ]
  },
  {
   "cell_type": "code",
   "execution_count": null,
   "metadata": {
    "collapsed": true
   },
   "outputs": [],
   "source": [
    "%%R -i df\n",
    "\n",
    "df$Condition = factor(df$Condition)\n",
    "df$participant = factor(df$participant)\n",
    "df$Grouped = factor(df$Grouped)\n",
    "df$block = factor(df$block)\n",
    "\n",
    "m <- ezANOVA(data = df, \n",
    "      wid = participant, \n",
    "      dv = used_linear_menu, \n",
    "      between = Condition,\n",
    "      within=c(block, Grouped),\n",
    "      return_aov=TRUE)\n",
    "\n",
    "print(m)"
   ]
  },
  {
   "cell_type": "code",
   "execution_count": null,
   "metadata": {
    "collapsed": true
   },
   "outputs": [],
   "source": [
    "df = training.groupby(['Condition', 'participant', 'block'], as_index=False).agg(training_quantitative_columns)\n",
    "df['Rate of Linear Menu Use']= df['used_linear_menu']\n",
    "df['Block'] = df['block']\n",
    "\n",
    "sns.factorplot(x='block', hue='Condition', y='Rate of Linear Menu Use', kind='point', data=df, dodge=True, size=height, aspect=width/height)\n",
    "\n",
    "\n",
    "# g.set_titles(\"{row_name}\")\n",
    "g.set(ylim=(0, None))\n",
    "g.savefig('figures/linear_menu_use_block.pdf')"
   ]
  },
  {
   "cell_type": "code",
   "execution_count": null,
   "metadata": {
    "collapsed": true
   },
   "outputs": [],
   "source": [
    "%%R -i df\n",
    "# training = df[df$block == 1,]\n",
    "\n",
    "df$Condition = factor(df$Condition)\n",
    "df$participant = factor(df$participant)\n",
    "df$block = factor(df$block)\n",
    "\n",
    "m <- ezANOVA(data = df, \n",
    "      wid = participant, \n",
    "      dv = used_linear_menu, \n",
    "      between = Condition,\n",
    "      within=c(block),\n",
    "      return_aov=TRUE)\n",
    "\n",
    "print(m)\n",
    "\n",
    "training$condition = training$Condition\n",
    "val = training\n",
    "# trues = training[training$Grouped == 'Grouped',]\n",
    "# falses = training[training$Grouped == 'Ungrouped',]\n",
    "\n",
    "# val = trues\n",
    "tbf = t.test(val[val$condition == 'Feedback',]$used_linear_menu, val[val$condition == 'Baseline',]$used_linear_menu)\n",
    "tfcb = t.test(val[val$condition == 'FingerChord',]$used_linear_menu, val[val$condition == 'Baseline',]$used_linear_menu)\n",
    "tfcf = t.test(val[val$condition == 'FingerChord',]$used_linear_menu, val[val$condition == 'Feedback',]$used_linear_menu)\n",
    "tfab = t.test(val[val$condition == 'FingerArc',]$used_linear_menu, val[val$condition == 'Baseline',]$used_linear_menu)\n",
    "tfaf = t.test(val[val$condition == 'FingerArc',]$used_linear_menu, val[val$condition == 'Feedback',]$used_linear_menu)\n",
    "tfafc = t.test(val[val$condition == 'FingerArc',]$used_linear_menu, val[val$condition == 'FingerChord',]$used_linear_menu)\n",
    "\n",
    "# tfcf\n",
    "# tfaf\n",
    "\n",
    "# fbf\n",
    "# ffcf\n",
    "# ffab\n",
    "# ffaf\n",
    "# val = falses\n",
    "\n",
    "# fbf = t.test(val[val$condition == 'Feedback',]$used_linear_menu, val[val$condition == 'Baseline',]$used_linear_menu)\n",
    "# ffcb = t.test(val[val$condition == 'FingerChord',]$used_linear_menu, val[val$condition == 'Baseline',]$used_linear_menu)\n",
    "# ffcf = t.test(val[val$condition == 'FingerChord',]$used_linear_menu, val[val$condition == 'Feedback',]$used_linear_menu)\n",
    "# ffab = t.test(val[val$condition == 'FingerArc',]$used_linear_menu, val[val$condition == 'Baseline',]$used_linear_menu)\n",
    "# ffaf = t.test(val[val$condition == 'FingerArc',]$used_linear_menu, val[val$condition == 'Feedback',]$used_linear_menu)\n",
    "# ffafc = t.test(val[val$condition == 'FingerArc',]$used_linear_menu, val[val$condition == 'FingerChord',]$used_linear_menu)\n",
    "\n",
    "p.adjust(c(tbf$p.value,tfcb$p.value,tfcf$p.value,tfab$p.value,tfaf$p.value,\n",
    "           tfafc$p.value\n",
    "          ), method=\"holm\")"
   ]
  },
  {
   "cell_type": "markdown",
   "metadata": {},
   "source": [
    "#### Grouped"
   ]
  },
  {
   "cell_type": "code",
   "execution_count": null,
   "metadata": {
    "collapsed": true
   },
   "outputs": [],
   "source": [
    "df = training.groupby(['condition', 'participant', 'Grouped'], as_index=False).agg(training_quantitative_columns)\n",
    "sns.factorplot(x='Grouped', hue='condition', y='used_linear_menu',kind='bar', data=df, size=height, aspect=width/height)\n"
   ]
  },
  {
   "cell_type": "markdown",
   "metadata": {},
   "source": [
    "### Expert Attempts"
   ]
  },
  {
   "cell_type": "code",
   "execution_count": null,
   "metadata": {
    "collapsed": true
   },
   "outputs": [],
   "source": [
    "df = training[training['block'] >= 9].groupby(['condition', 'participant', 'block', 'grouped'], as_index=False).agg(training_quantitative_columns)\n",
    "sns.factorplot(x='grouped', hue='condition', y='expert_attempt', kind='bar', data=df, size=height, aspect=width/height)"
   ]
  },
  {
   "cell_type": "markdown",
   "metadata": {},
   "source": [
    "### Expert Use"
   ]
  },
  {
   "cell_type": "markdown",
   "metadata": {},
   "source": [
    "#### Entire Experiment"
   ]
  },
  {
   "cell_type": "code",
   "execution_count": null,
   "metadata": {
    "collapsed": true
   },
   "outputs": [],
   "source": [
    "df = training.groupby(['condition', 'participant'], as_index=False).agg(training_quantitative_columns)\n",
    "sns.factorplot(x='condition', y='expert_use', kind='bar', data=df, size=height, aspect=width/height)"
   ]
  },
  {
   "cell_type": "code",
   "execution_count": null,
   "metadata": {
    "collapsed": true
   },
   "outputs": [],
   "source": [
    "%%R -i df\n",
    "\n",
    "df$condition = factor(df$condition)\n",
    "df$participant = factor(df$participant)\n",
    "\n",
    "m <- ezANOVA(data = df, \n",
    "      wid = participant, \n",
    "      dv = expert_use, \n",
    "      between = condition,\n",
    "      return_aov=TRUE)\n",
    "\n",
    "print(m)\n"
   ]
  },
  {
   "cell_type": "code",
   "execution_count": null,
   "metadata": {
    "collapsed": true
   },
   "outputs": [],
   "source": [
    "%%R -i df\n",
    "\n",
    "df$condition = factor(df$condition)\n",
    "df$participant = factor(df$participant)\n",
    "df$grouped = factor(df$grouped)\n",
    "\n",
    "\n",
    "m <- ezANOVA(data = df, \n",
    "      wid = participant, \n",
    "      dv = expert_use, \n",
    "      between = condition,\n",
    "      within = grouped,\n",
    "      return_aov=TRUE)\n",
    "\n",
    "print(m)"
   ]
  },
  {
   "cell_type": "markdown",
   "metadata": {},
   "source": [
    "#### Over Time"
   ]
  },
  {
   "cell_type": "code",
   "execution_count": null,
   "metadata": {
    "collapsed": true
   },
   "outputs": [],
   "source": [
    "\n",
    "\n",
    "\n",
    "df = training.groupby(['condition', 'participant', 'block'], as_index=False).agg(training_quantitative_columns)\n",
    "df['Expert Use'] = df['expert_use']\n",
    "df['Block'] = df['block']\n",
    "df['Condition'] = df['condition']\n",
    "\n",
    "# sns.pointplot(x='Block', hue='Condition', y='Expert Use', data=df, dodge=True)\n",
    "\n",
    "fig = sns.factorplot(x='Block', hue='Condition', y='Expert Use', kind='point', data=df, dodge=True, size=height, aspect=width/height, legend_out=False)\n",
    "\n",
    "fig.set(ylim=(0, None))\n",
    "\n",
    "fig.fig.set_size_inches(width, height)\n",
    "\n",
    "# fig.savefig('figures/expert_use_grouped_time.pdf')"
   ]
  },
  {
   "cell_type": "code",
   "execution_count": null,
   "metadata": {
    "collapsed": true
   },
   "outputs": [],
   "source": [
    "%%R -i df\n",
    "\n",
    "df$condition = factor(df$condition)\n",
    "df$block = factor(df$block)\n",
    "df$participant = factor(df$participant)\n",
    "\n",
    "m <- ezANOVA(data = df, \n",
    "      wid = participant, \n",
    "      dv = expert_use, \n",
    "      between = condition,\n",
    "      within=block,\n",
    "      return_aov=TRUE)\n",
    "\n",
    "print(m)"
   ]
  },
  {
   "cell_type": "markdown",
   "metadata": {},
   "source": [
    "#### Last Block"
   ]
  },
  {
   "cell_type": "code",
   "execution_count": null,
   "metadata": {
    "collapsed": true
   },
   "outputs": [],
   "source": [
    "df = training[training['block'] == 11].groupby(['condition', 'participant'], as_index=False).agg(training_quantitative_columns)\n",
    "sns.factorplot(x='condition', y='expert_use', kind='bar', data=df, size=height, aspect=width/height)"
   ]
  },
  {
   "cell_type": "code",
   "execution_count": null,
   "metadata": {
    "collapsed": true
   },
   "outputs": [],
   "source": [
    "%%R -i df\n",
    "\n",
    "df$condition = factor(df$condition)\n",
    "df$participant = factor(df$participant)\n",
    "\n",
    "m <- ezANOVA(data = df, \n",
    "      wid = participant, \n",
    "      dv = expert_use, \n",
    "      between = condition,\n",
    "      return_aov=TRUE)\n",
    "\n",
    "print(m)"
   ]
  },
  {
   "cell_type": "markdown",
   "metadata": {},
   "source": [
    "#### Last 3 Blocks"
   ]
  },
  {
   "cell_type": "code",
   "execution_count": null,
   "metadata": {
    "collapsed": true
   },
   "outputs": [],
   "source": [
    "df = training[training['block'] >= 9].groupby(['condition', 'participant', 'block'], as_index=False).agg(training_quantitative_columns)\n",
    "\n",
    "df = training.groupby(['condition', 'participant', 'block'], as_index=False).agg(training_quantitative_columns)\n",
    "\n",
    "sns.factorplot(x='condition', y='expert_use', kind='bar', data=df, size=height, aspect=width/height)\n",
    "\n",
    "df[['condition', 'participant', 'block', 'expert_use']].head(10)"
   ]
  },
  {
   "cell_type": "code",
   "execution_count": null,
   "metadata": {
    "collapsed": true
   },
   "outputs": [],
   "source": [
    "%%R -i df\n",
    "\n",
    "options(contrasts=c('contr.sum','contr.poly'))\n",
    "\n",
    "df$condition = factor(df$condition)\n",
    "df$participant = factor(df$participant)\n",
    "df$block = factor(df$block)\n",
    "\n",
    "\n",
    "m <- ezANOVA(data = df, \n",
    "      wid = participant, \n",
    "      dv = expert_attempt, \n",
    "      between = condition,\n",
    "      within=c(block, Grouped),\n",
    "      return_aov=TRUE)\n",
    "\n",
    "print(m)\n",
    "\n",
    "m <- aov(expert_use ~ condition * block + Error(participant / block), data=df, type=2)\n",
    "print(summary(m))"
   ]
  },
  {
   "cell_type": "code",
   "execution_count": null,
   "metadata": {
    "collapsed": true
   },
   "outputs": [],
   "source": [
    "df = training[training['block'] >= 9].groupby(['condition', 'participant', 'block'], as_index=False).agg(training_quantitative_columns)\n"
   ]
  },
  {
   "cell_type": "code",
   "execution_count": null,
   "metadata": {
    "collapsed": true,
    "scrolled": false
   },
   "outputs": [],
   "source": [
    "%%R -i df\n",
    "\n",
    "library(fitdistrplus)\n",
    "\n",
    "options(contrasts=c('contr.sum','contr.poly'))\n",
    "\n",
    "\n",
    "df$condition = factor(df$condition)\n",
    "df$participant = factor(df$participant)\n",
    "df$block = factor(df$block)\n",
    "\n",
    "fit = fitdist(df[df$condition == \"Baseline\",]$expert_use_sum, \"pois\", discrete=TRUE)\n",
    "print(gofstat(fit))\n",
    "plot(fit)\n",
    "fit = fitdist(df[df$condition == \"Feedback\",]$expert_use_sum, \"pois\", discrete=TRUE)\n",
    "print(gofstat(fit))\n",
    "plot(fit)\n",
    "\n",
    "fit = fitdist(df[df$condition == \"FingerArc\",]$expert_use_sum, \"pois\", discrete=TRUE)\n",
    "print(gofstat(fit))\n",
    "plot(fit)\n",
    "\n",
    "fit = fitdist(df[df$condition == \"FingerChord\",]$expert_use_sum, \"pois\", discrete=TRUE)\n",
    "print(gofstat(fit))\n",
    "plot(fit)\n",
    "\n",
    "\n",
    "\n",
    "fit = fitdist(df$expert_use_sum, \"pois\", discrete=TRUE)\n",
    "print(gofstat(fit))\n",
    "plot(fit)\n",
    "\n",
    "# m <- ezANOVA(data = df, \n",
    "#       wid = participant, \n",
    "#       dv = expert_use, \n",
    "#       between = condition,\n",
    "#       within=block,\n",
    "#       return_aov=TRUE)\n",
    "\n",
    "# print(m)\n",
    "\n",
    "# m <- aov(expert_use ~ condition * block + Error(participant / block), data=df, type=2)\n",
    "# print(summary(m))\n",
    "\n",
    "# # are the Voice error counts possibly Poisson distributed \n",
    "# # as they seemed for Scroll and Search?\n"
   ]
  },
  {
   "cell_type": "code",
   "execution_count": null,
   "metadata": {
    "collapsed": true
   },
   "outputs": [],
   "source": [
    "%%R -i df\n",
    "\n",
    "df$condition = factor(df$condition)\n",
    "df$participant = factor(df$participant)\n",
    "df$block = factor(df$block)\n",
    "\n",
    "\n",
    "m <- lmer(expert_use ~ condition + (1|participant), data=training)\n",
    "print(summary(m)a)\n",
    "print(Anova(m, type=3))"
   ]
  },
  {
   "cell_type": "code",
   "execution_count": null,
   "metadata": {
    "collapsed": true
   },
   "outputs": [],
   "source": []
  },
  {
   "cell_type": "code",
   "execution_count": null,
   "metadata": {
    "collapsed": true
   },
   "outputs": [],
   "source": [
    "%%R -i df\n",
    "\n",
    "df$condition = factor(df$condition)\n",
    "df$participant = factor(df$participant)\n",
    "df$block = factor(df$block)\n",
    "\n",
    "\n",
    "\n",
    "m <- aov(expert_use ~ block, data=df)\n",
    "TukeyHSD(m)"
   ]
  },
  {
   "cell_type": "markdown",
   "metadata": {},
   "source": [
    "#### First 3 Blocks"
   ]
  },
  {
   "cell_type": "code",
   "execution_count": null,
   "metadata": {
    "collapsed": true
   },
   "outputs": [],
   "source": [
    "df = training[training['block'] <= 3].groupby(['condition', 'participant'], as_index=False).agg(training_quantitative_columns)\n",
    "sns.factorplot(x='condition', y='expert_use', kind='bar', data=df, size=height, aspect=width/height)"
   ]
  },
  {
   "cell_type": "code",
   "execution_count": null,
   "metadata": {
    "collapsed": true
   },
   "outputs": [],
   "source": [
    "%%R -i df\n",
    "\n",
    "df$condition = factor(df$condition)\n",
    "df$participant = factor(df$participant)\n",
    "\n",
    "m <- ezANOVA(data = df, \n",
    "      wid = participant, \n",
    "      dv = expert_use, \n",
    "      between = condition,\n",
    "      return_aov=TRUE)\n",
    "\n",
    "print(m)"
   ]
  },
  {
   "cell_type": "markdown",
   "metadata": {},
   "source": [
    "#### First 3 Blocks Grouped"
   ]
  },
  {
   "cell_type": "code",
   "execution_count": null,
   "metadata": {
    "collapsed": true
   },
   "outputs": [],
   "source": [
    "df = training[training['block'] <= 3].groupby(['condition', 'participant', 'grouped'], as_index=False).agg(training_quantitative_columns)\n",
    "sns.factorplot(x='condition', col='grouped', y='expert_use', kind='bar', data=df, size=height, aspect=width/height)"
   ]
  },
  {
   "cell_type": "code",
   "execution_count": null,
   "metadata": {
    "collapsed": true
   },
   "outputs": [],
   "source": [
    "%%R -i df\n",
    "\n",
    "df$condition = factor(df$condition)\n",
    "df$participant = factor(df$participant)\n",
    "df$grouped = factor(df$grouped)\n",
    "\n",
    "m <- ezANOVA(data = df, \n",
    "      wid = participant, \n",
    "      dv = expert_use, \n",
    "      between = condition,\n",
    "      within=grouped,\n",
    "      return_aov=TRUE)\n",
    "\n",
    "print(m)"
   ]
  },
  {
   "cell_type": "markdown",
   "metadata": {},
   "source": [
    "#### Last 3 Blocks Grouped"
   ]
  },
  {
   "cell_type": "code",
   "execution_count": null,
   "metadata": {
    "collapsed": true
   },
   "outputs": [],
   "source": [
    "df = training[training['block'] >= 8].groupby(['condition', 'participant', 'block', 'grouped'], as_index=False).agg(training_quantitative_columns)\n",
    "sns.factorplot(x='grouped', hue='condition', y='expert_use', kind='bar', data=df, size=height, aspect=width/height)"
   ]
  },
  {
   "cell_type": "code",
   "execution_count": null,
   "metadata": {
    "collapsed": true
   },
   "outputs": [],
   "source": [
    "%%R -i df\n",
    "\n",
    "df$condition = factor(df$condition)\n",
    "df$participant = factor(df$participant)\n",
    "df$grouped = factor(df$grouped)\n",
    "df$block = factor(df$block)\n",
    "\n",
    "m <- ezANOVA(data = df, \n",
    "      wid = participant, \n",
    "      dv = expert_use, \n",
    "      between = condition,\n",
    "      within=c(grouped),\n",
    "      return_aov=TRUE)\n",
    "\n",
    "print(m)"
   ]
  },
  {
   "cell_type": "markdown",
   "metadata": {},
   "source": [
    "#### Grouped Over Time"
   ]
  },
  {
   "cell_type": "code",
   "execution_count": null,
   "metadata": {
    "collapsed": true
   },
   "outputs": [],
   "source": [
    "df = training.groupby(['condition', 'participant', 'block', 'Grouped'], as_index=False).agg(training_quantitative_columns)\n",
    "\n",
    "df['Expert Use'] = df['expert_use']\n",
    "df['Block'] = df['block']\n",
    "df['Condition'] = df['condition']\n",
    "\n",
    "g = sns.factorplot(x='Block', hue='Condition', y='Expert Use', row='Grouped', kind='point', dodge=True, data=df, size=height, aspect=width/height)\n",
    "\n",
    "g.set_titles(\"{row_name}\")\n",
    "g.set(ylim=(0, None))\n",
    "g.savefig('figures/expert_use_grouped_block.pdf')"
   ]
  },
  {
   "cell_type": "code",
   "execution_count": null,
   "metadata": {
    "collapsed": true
   },
   "outputs": [],
   "source": [
    "%%R -i df\n",
    "\n",
    "df$condition = factor(df$condition)\n",
    "df$participant = factor(df$participant)\n",
    "df$grouped = factor(df$Grouped)\n",
    "df$block = factor(df$block)\n",
    "\n",
    "m <- ezANOVA(data = df, \n",
    "      wid = participant, \n",
    "      dv = expert_use, \n",
    "      between = condition,\n",
    "      within=c(block, Grouped),\n",
    "      return_aov=TRUE)\n",
    "\n",
    "print(m)"
   ]
  },
  {
   "cell_type": "markdown",
   "metadata": {},
   "source": [
    "#### Grouped"
   ]
  },
  {
   "cell_type": "code",
   "execution_count": null,
   "metadata": {
    "collapsed": true
   },
   "outputs": [],
   "source": [
    "df = training.groupby(['condition', 'participant', 'grouped'], as_index=False).agg(training_quantitative_columns)\n",
    "g = sns.factorplot(x='grouped', y='expert_use', hue='condition', kind='bar', data=df, size=height, aspect=width/height, legend_out=False)"
   ]
  },
  {
   "cell_type": "code",
   "execution_count": null,
   "metadata": {
    "collapsed": true
   },
   "outputs": [],
   "source": []
  },
  {
   "cell_type": "code",
   "execution_count": null,
   "metadata": {
    "collapsed": true,
    "scrolled": false
   },
   "outputs": [],
   "source": [
    "%%R -i training\n",
    "\n",
    "training$condition = factor(training$condition, ordered=FALSE)\n",
    "training$block = factor(training$block)\n",
    "training$trial = factor(training$trial)\n",
    "training$grouped = factor(training$grouped)\n",
    "\n",
    "training$condition = factor(relevel(training$condition, ref=\"Baseline\"))\n",
    "\n",
    "contrasts(training$condition) <- \"contr.sum\"\n",
    "contrasts(training$block) <- \"contr.sum\"\n",
    "contrasts(training$trial) <- \"contr.sum\"\n",
    "\n",
    "# m <- lmer(totalTimeMedian ~ condition / trial + (1|participant), data=training)\n",
    "m <- glmer(expert_use ~ condition * grouped * frequency + (1|participant), family=binomial(link=\"logit\"), data=training)\n",
    "print(summary(m))\n",
    "print(Anova(m, type=3))\n",
    "\n",
    "# summary(glht(m, lsm(pairwise ~ condition)), test=adjusted(type=\"holm\"))"
   ]
  },
  {
   "cell_type": "code",
   "execution_count": null,
   "metadata": {
    "collapsed": true
   },
   "outputs": [],
   "source": [
    "df = training[training['block'] == 11].groupby(['condition', 'participant', 'grouped'], as_index=False).agg(training_quantitative_columns)\n",
    "sns.factorplot(x='condition', y='expert_use', col='grouped', kind='bar', data=df, size=height, aspect=width/height)"
   ]
  },
  {
   "cell_type": "markdown",
   "metadata": {},
   "source": [
    "### Total Task Time"
   ]
  },
  {
   "cell_type": "markdown",
   "metadata": {},
   "source": [
    "#### Entire Experiment"
   ]
  },
  {
   "cell_type": "code",
   "execution_count": null,
   "metadata": {
    "collapsed": true
   },
   "outputs": [],
   "source": [
    "df = training.groupby(['condition', 'participant'], as_index=False).agg(training_quantitative_columns)\n",
    "sns.factorplot(x='condition', y='totalTaskTime', kind='bar', data=df, size=height, aspect=width/height)"
   ]
  },
  {
   "cell_type": "code",
   "execution_count": null,
   "metadata": {
    "collapsed": true
   },
   "outputs": [],
   "source": [
    "%%R -i df\n",
    "\n",
    "df$condition = factor(df$condition)\n",
    "df$participant = factor(df$participant)\n",
    "\n",
    "m <- ezANOVA(data = df, \n",
    "      wid = participant, \n",
    "      dv = totalTaskTime, \n",
    "      between = condition,\n",
    "      return_aov=TRUE)\n",
    "\n",
    "print(m)\n"
   ]
  },
  {
   "cell_type": "markdown",
   "metadata": {},
   "source": [
    "#### Over Time Grouped"
   ]
  },
  {
   "cell_type": "code",
   "execution_count": null,
   "metadata": {
    "collapsed": true
   },
   "outputs": [],
   "source": [
    "df = training.groupby(['condition', 'participant', 'block', 'grouped'], as_index=False).agg(training_quantitative_columns)\n",
    "df = df[df['grouped'] == False]\n",
    "sns.factorplot(x='block', hue='condition', y='totalTaskTime', kind='point', ci=None, estimator=np.median,\n",
    "               data=df, size=height, aspect=width/height)"
   ]
  },
  {
   "cell_type": "markdown",
   "metadata": {},
   "source": [
    "#### Over Time"
   ]
  },
  {
   "cell_type": "code",
   "execution_count": null,
   "metadata": {
    "collapsed": true
   },
   "outputs": [],
   "source": [
    "df = training.groupby(['condition', 'participant', 'block'], as_index=False).agg(training_quantitative_columns)\n",
    "sns.factorplot(x='block', hue='condition', y='totalTaskTime', kind='point', data=df, size=height, aspect=width/height)"
   ]
  },
  {
   "cell_type": "code",
   "execution_count": null,
   "metadata": {
    "collapsed": true
   },
   "outputs": [],
   "source": [
    "%%R -i df\n",
    "\n",
    "df$condition = factor(df$condition)\n",
    "df$block = factor(df$block)\n",
    "df$participant = factor(df$participant)\n",
    "\n",
    "m <- ezANOVA(data = df, \n",
    "      wid = participant, \n",
    "      dv = totalTaskTime, \n",
    "      between = condition,\n",
    "      within=block,\n",
    "      return_aov=TRUE)\n",
    "\n",
    "print(m)"
   ]
  },
  {
   "cell_type": "code",
   "execution_count": null,
   "metadata": {
    "collapsed": true
   },
   "outputs": [],
   "source": [
    "df = training.groupby(['condition', 'participant', 'block'], as_index=False).agg(training_quantitative_columns)\n",
    "df.head()"
   ]
  },
  {
   "cell_type": "code",
   "execution_count": null,
   "metadata": {
    "collapsed": true
   },
   "outputs": [],
   "source": []
  },
  {
   "cell_type": "markdown",
   "metadata": {},
   "source": [
    "#### Last Block"
   ]
  },
  {
   "cell_type": "code",
   "execution_count": null,
   "metadata": {
    "collapsed": true
   },
   "outputs": [],
   "source": [
    "df = training[training['block'] == 11].groupby(['condition', 'participant'], as_index=False).agg(training_quantitative_columns)\n",
    "sns.factorplot(x='condition', y='totalTaskTime', kind='bar', data=df, size=height, aspect=width/height)"
   ]
  },
  {
   "cell_type": "code",
   "execution_count": null,
   "metadata": {
    "collapsed": true
   },
   "outputs": [],
   "source": [
    "%%R -i df\n",
    "\n",
    "df$condition = factor(df$condition)\n",
    "df$participant = factor(df$participant)\n",
    "\n",
    "m <- ezANOVA(data = df, \n",
    "      wid = participant, \n",
    "      dv = totalTaskTime, \n",
    "      between = condition,\n",
    "      return_aov=TRUE)\n",
    "\n",
    "print(m)"
   ]
  },
  {
   "cell_type": "markdown",
   "metadata": {},
   "source": [
    "#### Last Four vs First Four"
   ]
  },
  {
   "cell_type": "code",
   "execution_count": null,
   "metadata": {
    "collapsed": true
   },
   "outputs": [],
   "source": [
    "df = training.groupby(['condition', 'participant', 'before_distractor'], as_index=False).agg(training_quantitative_columns)\n",
    "sns.factorplot(hue='condition', x='before_distractor', y='totalTaskTime', kind='bar', data=df, size=height, aspect=width/height)"
   ]
  },
  {
   "cell_type": "markdown",
   "metadata": {},
   "source": [
    "#### Graph"
   ]
  },
  {
   "cell_type": "code",
   "execution_count": null,
   "metadata": {
    "collapsed": true
   },
   "outputs": [],
   "source": [
    "training['block_str'] = training['block'].map(str)\n",
    "training['selection_type'].unique()"
   ]
  },
  {
   "cell_type": "code",
   "execution_count": null,
   "metadata": {
    "collapsed": true
   },
   "outputs": [],
   "source": [
    "\n",
    "df = training[training['selection_type'] != 'linear_menu']\n",
    "df = df[df['block'] >4].groupby(['condition', 'participant', 'block', 'area', 'referenceTask'], as_index=False).agg(training_quantitative_columns)\n",
    "sns.factorplot(x='condition',y='totalTaskTime', hue='area', col='referenceTask', kind='bar', data=training, size=height, aspect=width/height)\n"
   ]
  },
  {
   "cell_type": "code",
   "execution_count": null,
   "metadata": {
    "collapsed": true
   },
   "outputs": [],
   "source": [
    "df = training[training['block'] >4].groupby(['condition', 'participant', 'block', 'referenceTask'], as_index=False).agg(training_quantitative_columns)\n",
    "sns.factorplot(x='condition',y='one_error', hue='referenceTask', kind='bar', data=training, size=height, aspect=width/height)\n",
    "\n",
    "\n"
   ]
  },
  {
   "cell_type": "code",
   "execution_count": null,
   "metadata": {
    "collapsed": true
   },
   "outputs": [],
   "source": [
    "sns.factorplot(x='condition',y='totalTaskTime', hue='referenceTask', kind='bar', data=training, size=height, aspect=width/height)\n"
   ]
  },
  {
   "cell_type": "code",
   "execution_count": null,
   "metadata": {
    "collapsed": true
   },
   "outputs": [],
   "source": [
    "sns.factorplot(x='condition',y='expert_use', hue='referenceTask', kind='bar', data=training, size=height, aspect=width/height)\n"
   ]
  },
  {
   "cell_type": "code",
   "execution_count": null,
   "metadata": {
    "collapsed": true
   },
   "outputs": [],
   "source": [
    "sns.factorplot(x='grouped', y='finalTaskTime', hue='condition', kind='bar', col='before_distractor', col_wrap=2, data=training, size=height, aspect=width/height)"
   ]
  },
  {
   "cell_type": "code",
   "execution_count": null,
   "metadata": {
    "collapsed": true,
    "scrolled": false
   },
   "outputs": [],
   "source": [
    "sns.factorplot(x='grouped', y='finalTaskTime', hue='condition', kind='bar', data=training, size=height, aspect=width/height)\n",
    "\n",
    "# tfcf\n",
    "# tfaf\n",
    "\n",
    "# fbf\n",
    "# ffcf\n",
    "# ffab\n",
    "# ffaf\n",
    "\n",
    "# expert use (last 4 blocks), time (last 4 blocks if possible), recall (10minutes, 24hours) by grouped\n",
    "# smooth transition => only ungrouped total task time over blocks. Linear menu usage over blocks"
   ]
  },
  {
   "cell_type": "code",
   "execution_count": null,
   "metadata": {
    "collapsed": true,
    "scrolled": false
   },
   "outputs": [],
   "source": [
    "g = sns.factorplot(x='Grouped', y='totalTaskTime', hue='Condition', kind='bar', data=training, size=height, aspect=width/height, legend_out=False)\n",
    "g.set_axis_labels(\"\", \"Total Task Time (ms)\")\n",
    "g.set(ylim=(0, 8000))\n",
    "sns.despine(left=True)\n",
    "\n"
   ]
  },
  {
   "cell_type": "markdown",
   "metadata": {},
   "source": [
    "#### Test"
   ]
  },
  {
   "cell_type": "code",
   "execution_count": null,
   "metadata": {
    "collapsed": true,
    "scrolled": false
   },
   "outputs": [],
   "source": [
    "%%R -i training\n",
    "\n",
    "training$block = factor(training$block)\n",
    "\n",
    "training$condition = factor(training$condition, ordered = FALSE)\n",
    "# training$condition = factor(training$condition)#, c(\"Baseline\", \"Feedback\", \"FingerChord\", \"FingerArc\"))\n",
    "# training$condition = factor(training$condition, c(\"Baseline\", \"Feedback\", \"FingerChord\", \"FingerArc\"))\n",
    "training$participant = factor(training$participant)\n",
    "training$grouped = factor(training$grouped)\n",
    "training$frequency = factor(training$frequency)\n",
    "\n",
    "training$condition = factor(relevel(training$condition, ref=\"Baseline\"))\n",
    "\n",
    "m <- ezANOVA(data = training, \n",
    "          wid = participant, \n",
    "          dv = finalTaskTime, \n",
    "          between = condition,\n",
    "          within=c(grouped),\n",
    "          return_aov=TRUE)\n",
    "\n",
    "print(m)"
   ]
  },
  {
   "cell_type": "code",
   "execution_count": null,
   "metadata": {
    "collapsed": true,
    "scrolled": false
   },
   "outputs": [],
   "source": [
    "%%R -i training\n",
    "\n",
    "trues = training[training$grouped == 'TRUE',]\n",
    "falses = training[training$grouped == 'FALSE',]\n",
    "\n",
    "val = trues\n",
    "tbf = t.test(val[val$condition == 'Feedback',]$finalTaskTime, val[val$condition == 'Baseline',]$finalTaskTime)\n",
    "tfcb = t.test(val[val$condition == 'FingerChord',]$finalTaskTime, val[val$condition == 'Baseline',]$finalTaskTime)\n",
    "tfcf = t.test(val[val$condition == 'FingerChord',]$finalTaskTime, val[val$condition == 'Feedback',]$finalTaskTime)\n",
    "tfab = t.test(val[val$condition == 'FingerArc',]$finalTaskTime, val[val$condition == 'Baseline',]$finalTaskTime)\n",
    "tfaf = t.test(val[val$condition == 'FingerArc',]$finalTaskTime, val[val$condition == 'Feedback',]$finalTaskTime)\n",
    "tfafc = t.test(val[val$condition == 'FingerArc',]$finalTaskTime, val[val$condition == 'FingerChord',]$finalTaskTime)\n",
    "\n",
    "# tfcf\n",
    "# tfaf\n",
    "\n",
    "# fbf\n",
    "# ffcf\n",
    "# ffab\n",
    "# ffaf\n",
    "val = falses\n",
    "\n",
    "fbf = t.test(val[val$condition == 'Feedback',]$finalTaskTime, val[val$condition == 'Baseline',]$finalTaskTime)\n",
    "ffcb = t.test(val[val$condition == 'FingerChord',]$finalTaskTime, val[val$condition == 'Baseline',]$finalTaskTime)\n",
    "ffcf = t.test(val[val$condition == 'FingerChord',]$finalTaskTime, val[val$condition == 'Feedback',]$finalTaskTime)\n",
    "ffab = t.test(val[val$condition == 'FingerArc',]$finalTaskTime, val[val$condition == 'Baseline',]$finalTaskTime)\n",
    "ffaf = t.test(val[val$condition == 'FingerArc',]$finalTaskTime, val[val$condition == 'Feedback',]$finalTaskTime)\n",
    "ffafc = t.test(val[val$condition == 'FingerArc',]$finalTaskTime, val[val$condition == 'FingerChord',]$finalTaskTime)\n",
    "\n",
    "p.adjust(c(tbf$p.value,tfcb$p.value,tfcf$p.value,tfab$p.value,tfaf$p.value,tfafc$p.value,fbf$p.value,ffcb$p.value,ffcf$p.value,ffab$p.value,ffaf$p.value,ffafc$p.value), method=\"holm\")"
   ]
  },
  {
   "cell_type": "code",
   "execution_count": null,
   "metadata": {
    "collapsed": true
   },
   "outputs": [],
   "source": [
    "%%R -i training\n",
    "\n",
    "training$block = factor(training$block)\n",
    "\n",
    "training$condition = factor(training$condition, ordered = FALSE)\n",
    "# training$condition = factor(training$condition)#, c(\"Baseline\", \"Feedback\", \"FingerChord\", \"FingerArc\"))\n",
    "# training$condition = factor(training$condition, c(\"Baseline\", \"Feedback\", \"FingerChord\", \"FingerArc\"))\n",
    "training$participant = factor(training$participant)\n",
    "training$grouped = factor(training$grouped)\n",
    "training$frequency = factor(training$frequency)\n",
    "\n",
    "training$condition = factor(relevel(training$condition, ref=\"Baseline\"))\n",
    "\n",
    "m <- ezANOVA(data = training, \n",
    "          wid = participant, \n",
    "          dv = finalTaskTime, \n",
    "          between = condition,\n",
    "          within=c(grouped),\n",
    "          return_aov=TRUE)\n",
    "\n",
    "print(m)"
   ]
  },
  {
   "cell_type": "code",
   "execution_count": null,
   "metadata": {
    "collapsed": true
   },
   "outputs": [],
   "source": [
    "%%R -i training\n",
    "\n",
    "trues = training[training$grouped == 'TRUE',]\n",
    "falses = training[training$grouped == 'FALSE',]\n",
    "\n",
    "val = trues\n",
    "tbf = t.test(val[val$condition == 'Feedback',]$totalTaskTime, val[val$condition == 'Baseline',]$totalTaskTime)\n",
    "tfcb = t.test(val[val$condition == 'FingerChord',]$totalTaskTime, val[val$condition == 'Baseline',]$totalTaskTime)\n",
    "tfcf = t.test(val[val$condition == 'FingerChord',]$totalTaskTime, val[val$condition == 'Feedback',]$totalTaskTime)\n",
    "tfab = t.test(val[val$condition == 'FingerArc',]$totalTaskTime, val[val$condition == 'Baseline',]$totalTaskTime)\n",
    "tfaf = t.test(val[val$condition == 'FingerArc',]$totalTaskTime, val[val$condition == 'Feedback',]$totalTaskTime)\n",
    "tfafc = t.test(val[val$condition == 'FingerArc',]$totalTaskTime, val[val$condition == 'FingerChord',]$totalTaskTime)\n",
    "\n",
    "# tfcf\n",
    "# tfafc\n",
    "\n",
    "# fbf\n",
    "# ffcb\n",
    "# ffcf\n",
    "# ffab\n",
    "# ffaf\n",
    "val = falses\n",
    "\n",
    "fbf = t.test(val[val$condition == 'Feedback',]$totalTaskTime, val[val$condition == 'Baseline',]$totalTaskTime)\n",
    "ffcb = t.test(val[val$condition == 'FingerChord',]$totalTaskTime, val[val$condition == 'Baseline',]$totalTaskTime)\n",
    "ffcf = t.test(val[val$condition == 'FingerChord',]$totalTaskTime, val[val$condition == 'Feedback',]$totalTaskTime)\n",
    "ffab = t.test(val[val$condition == 'FingerArc',]$totalTaskTime, val[val$condition == 'Baseline',]$totalTaskTime)\n",
    "ffaf = t.test(val[val$condition == 'FingerArc',]$totalTaskTime, val[val$condition == 'Feedback',]$totalTaskTime)\n",
    "ffafc = t.test(val[val$condition == 'FingerArc',]$totalTaskTime, val[val$condition == 'FingerChord',]$totalTaskTime)\n",
    "\n",
    "p.adjust(c(tbf$p.value,tfcb$p.value,tfcf$p.value,tfab$p.value,tfaf$p.value,tfafc$p.value,fbf$p.value,ffcb$p.value,ffcf$p.value,ffab$p.value,ffaf$p.value,ffafc$p.value), method=\"holm\")"
   ]
  },
  {
   "cell_type": "code",
   "execution_count": null,
   "metadata": {
    "collapsed": true
   },
   "outputs": [],
   "source": [
    "%%R\n",
    "str(training$grouped)"
   ]
  },
  {
   "cell_type": "markdown",
   "metadata": {},
   "source": [
    "### Errors"
   ]
  },
  {
   "cell_type": "markdown",
   "metadata": {},
   "source": [
    "#### Entire Experiment"
   ]
  },
  {
   "cell_type": "code",
   "execution_count": null,
   "metadata": {
    "collapsed": true
   },
   "outputs": [],
   "source": [
    "df = training.groupby(['condition', 'participant'], as_index=False).agg(training_quantitative_columns)\n",
    "sns.factorplot(x='condition', y='errors', kind='bar', data=df, size=height, aspect=width/height)"
   ]
  },
  {
   "cell_type": "code",
   "execution_count": null,
   "metadata": {
    "collapsed": true
   },
   "outputs": [],
   "source": [
    "%%R -i df\n",
    "\n",
    "df$condition = factor(df$condition)\n",
    "df$participant = factor(df$participant)\n",
    "\n",
    "m <- ezANOVA(data = df, \n",
    "      wid = participant, \n",
    "      dv = errors, \n",
    "      between = condition,\n",
    "      return_aov=TRUE)\n",
    "\n",
    "print(m)\n"
   ]
  },
  {
   "cell_type": "markdown",
   "metadata": {},
   "source": [
    "#### Over Time"
   ]
  },
  {
   "cell_type": "code",
   "execution_count": null,
   "metadata": {
    "collapsed": true
   },
   "outputs": [],
   "source": [
    "df = training.groupby(['condition', 'participant', 'block'], as_index=False).agg(training_quantitative_columns)\n",
    "sns.factorplot(x='block', hue='condition', y='errors', kind='point', data=df, dodge=True, size=height, aspect=width/height)"
   ]
  },
  {
   "cell_type": "code",
   "execution_count": null,
   "metadata": {
    "collapsed": true
   },
   "outputs": [],
   "source": [
    "%%R -i df\n",
    "\n",
    "df$condition = factor(df$condition)\n",
    "df$block = factor(df$block)\n",
    "df$participant = factor(df$participant)\n",
    "\n",
    "m <- ezANOVA(data = df, \n",
    "      wid = participant, \n",
    "      dv = errors, \n",
    "      between = condition,\n",
    "      within=block,\n",
    "      return_aov=TRUE)\n",
    "\n",
    "print(m)"
   ]
  },
  {
   "cell_type": "markdown",
   "metadata": {},
   "source": [
    "#### Over Time Grouped"
   ]
  },
  {
   "cell_type": "code",
   "execution_count": null,
   "metadata": {
    "collapsed": true
   },
   "outputs": [],
   "source": [
    "df = training.groupby(['Condition', 'participant', 'block', 'Grouped'], as_index=False).agg(training_quantitative_columns)\n",
    "df['Error Rate']= df['errors']\n",
    "df['Block'] = df['block']\n",
    "g = sns.factorplot(x='Block', hue='Condition', row='Grouped', y='Error Rate', kind='point', dodge=True,data=df, size=height, aspect=width/height)\n",
    "\n",
    "\n",
    "g.set_titles(\"{row_name}\")\n",
    "g.set(ylim=(0, None))\n",
    "g.savefig('figures/error_rate_grouped_block.pdf')\n"
   ]
  },
  {
   "cell_type": "code",
   "execution_count": null,
   "metadata": {
    "collapsed": true
   },
   "outputs": [],
   "source": [
    "%%R -i df\n",
    "\n",
    "df$Condition = factor(df$Condition)\n",
    "df$participant = factor(df$participant)\n",
    "df$Grouped = factor(df$Grouped)\n",
    "df$block = factor(df$block)\n",
    "\n",
    "m <- ezANOVA(data = df, \n",
    "      wid = participant, \n",
    "      dv = errors, \n",
    "      between = Condition,\n",
    "      within=c(block, Grouped),\n",
    "      return_aov=TRUE)\n",
    "\n",
    "print(m)"
   ]
  },
  {
   "cell_type": "markdown",
   "metadata": {},
   "source": [
    "#### One Error Grouped Over Time"
   ]
  },
  {
   "cell_type": "code",
   "execution_count": null,
   "metadata": {
    "collapsed": true
   },
   "outputs": [],
   "source": [
    "df = training.groupby(['Condition', 'participant', 'block', 'Grouped'], as_index=False).agg(training_quantitative_columns)\n",
    "df['Error Rate']= df['errors']\n",
    "df['Block'] = df['block']\n",
    "g = sns.factorplot(x='Block', hue='Condition', row='Grouped', y='one_error', kind='point', dodge=True,data=df, size=height, aspect=width/height)\n",
    "\n",
    "\n",
    "g.set_titles(\"{row_name}\")\n",
    "g.set(ylim=(0, None))\n",
    "\n",
    "df[['Condition', 'participant', 'block', 'Grouped', 'one_error']].head(10)"
   ]
  },
  {
   "cell_type": "markdown",
   "metadata": {},
   "source": [
    "#### Last Block"
   ]
  },
  {
   "cell_type": "code",
   "execution_count": null,
   "metadata": {
    "collapsed": true
   },
   "outputs": [],
   "source": [
    "df = training[training['block'] == 11].groupby(['condition', 'participant'], as_index=False).agg(training_quantitative_columns)\n",
    "sns.factorplot(x='condition', y='errors', kind='bar', data=df, size=height, aspect=width/height)"
   ]
  },
  {
   "cell_type": "code",
   "execution_count": null,
   "metadata": {
    "collapsed": true
   },
   "outputs": [],
   "source": [
    "%%R -i df\n",
    "\n",
    "df$condition = factor(df$condition)\n",
    "df$participant = factor(df$participant)\n",
    "\n",
    "m <- ezANOVA(data = df, \n",
    "      wid = participant, \n",
    "      dv = errors, \n",
    "      between = condition,\n",
    "      return_aov=TRUE)\n",
    "\n",
    "print(m)"
   ]
  },
  {
   "cell_type": "markdown",
   "metadata": {},
   "source": [
    "#### Graph"
   ]
  },
  {
   "cell_type": "code",
   "execution_count": null,
   "metadata": {
    "collapsed": true
   },
   "outputs": [],
   "source": [
    "sns.factorplot(x='block', y='one_error', hue='condition', col='grouped', col_wrap=2, data=training,size=height, aspect=width/height)"
   ]
  },
  {
   "cell_type": "markdown",
   "metadata": {},
   "source": [
    "#### Test"
   ]
  },
  {
   "cell_type": "code",
   "execution_count": null,
   "metadata": {
    "collapsed": true
   },
   "outputs": [],
   "source": [
    "%%R -i training\n",
    "\n",
    "training$block = factor(training$block)\n",
    "training$condition = factor(training$condition)\n",
    "training$participant = factor(training$participant)\n",
    "training$grouped = factor(training$grouped)\n",
    "training$frequency = factor(training$frequency)\n",
    "\n",
    "\n",
    "ezANOVA(data = training, \n",
    "          wid = participant, \n",
    "          dv = one_error, \n",
    "          between = condition,\n",
    "          within=c(grouped, frequency),\n",
    "          return_aov=TRUE)"
   ]
  },
  {
   "cell_type": "markdown",
   "metadata": {},
   "source": [
    "### Qualitative"
   ]
  },
  {
   "cell_type": "code",
   "execution_count": null,
   "metadata": {
    "collapsed": true
   },
   "outputs": [],
   "source": [
    "sns.factorplot(y='Value', x='Condition', col='Var', col_wrap=3, kind='bar', data=subjective,size=height, aspect=width/height)"
   ]
  },
  {
   "cell_type": "code",
   "execution_count": null,
   "metadata": {
    "collapsed": true
   },
   "outputs": [],
   "source": []
  },
  {
   "cell_type": "markdown",
   "metadata": {},
   "source": [
    "#### Use"
   ]
  },
  {
   "cell_type": "markdown",
   "metadata": {},
   "source": [
    "##### Graph"
   ]
  },
  {
   "cell_type": "code",
   "execution_count": null,
   "metadata": {
    "collapsed": true
   },
   "outputs": [],
   "source": [
    "g = sns.barplot(x=\"Condition\", y=\"Ease of Use\", data=qualitative)\n",
    "g.set_ylim(0,5)"
   ]
  },
  {
   "cell_type": "markdown",
   "metadata": {},
   "source": [
    "##### Test"
   ]
  },
  {
   "cell_type": "code",
   "execution_count": null,
   "metadata": {
    "collapsed": true
   },
   "outputs": [],
   "source": [
    "%%R -i qualitative\n",
    "\n",
    "qualitative$Condition = factor(qualitative$Condition)\n",
    "\n",
    "m <- art(use ~ Condition, data=qualitative)\n",
    "print(anova(m))\n",
    "print(lsmeans(artlm(m, \"Condition\"), pairwise ~ Condition))\n",
    "# print(shapiro.test(residuals(m))) # normality?\n",
    "# qqnorm(residuals(m)); qqline(residuals(m)) # seems to conform"
   ]
  },
  {
   "cell_type": "markdown",
   "metadata": {},
   "source": [
    "#### Learning"
   ]
  },
  {
   "cell_type": "markdown",
   "metadata": {},
   "source": [
    "##### Graph"
   ]
  },
  {
   "cell_type": "code",
   "execution_count": null,
   "metadata": {
    "collapsed": true
   },
   "outputs": [],
   "source": [
    "sns.barplot(x=\"Condition\", y=\"learning\", data=qualitative)"
   ]
  },
  {
   "cell_type": "markdown",
   "metadata": {},
   "source": [
    "##### Test"
   ]
  },
  {
   "cell_type": "code",
   "execution_count": null,
   "metadata": {
    "collapsed": true
   },
   "outputs": [],
   "source": [
    "%%R -i qualitative\n",
    "\n",
    "qualitative$Condition = factor(qualitative$Condition)\n",
    "\n",
    "m <- art(learning ~ Condition, data=qualitative)\n",
    "print(anova(m))\n",
    "print(lsmeans(artlm(m, \"Condition\"), pairwise ~ Condition))\n",
    "print(TukeyHSD(m))\n",
    "# print(shapiro.test(residuals(m))) # normality?\n",
    "# qqnorm(residuals(m)); qqline(residuals(m)) # seems to conform"
   ]
  },
  {
   "cell_type": "markdown",
   "metadata": {},
   "source": [
    "#### Primary"
   ]
  },
  {
   "cell_type": "markdown",
   "metadata": {},
   "source": [
    "##### Graph"
   ]
  },
  {
   "cell_type": "code",
   "execution_count": null,
   "metadata": {
    "collapsed": true
   },
   "outputs": [],
   "source": [
    "sns.barplot(x=\"Condition\", y=\"primary\", data=qualitative)"
   ]
  },
  {
   "cell_type": "markdown",
   "metadata": {},
   "source": [
    "##### Test"
   ]
  },
  {
   "cell_type": "code",
   "execution_count": null,
   "metadata": {
    "collapsed": true
   },
   "outputs": [],
   "source": [
    "%%R -i qualitative\n",
    "\n",
    "qualitative$Condition = factor(qualitative$Condition)\n",
    "\n",
    "m <- art(primary ~ Condition, data=qualitative)\n",
    "print(anova(m))\n",
    "print(lsmeans(artlm(m, \"Condition\"), pairwise ~ Condition))\n",
    "# print(shapiro.test(residuals(m))) # normality?\n",
    "# qqnorm(residuals(m)); qqline(residuals(m)) # seems to conform"
   ]
  }
 ],
 "metadata": {
  "hide_input": false,
  "kernelspec": {
   "display_name": "Python 3",
   "language": "python",
   "name": "python3"
  },
  "language_info": {
   "codemirror_mode": {
    "name": "ipython",
    "version": 3
   },
   "file_extension": ".py",
   "mimetype": "text/x-python",
   "name": "python",
   "nbconvert_exporter": "python",
   "pygments_lexer": "ipython3",
   "version": "3.6.4"
  },
  "latex_envs": {
   "LaTeX_envs_menu_present": true,
   "autoclose": false,
   "autocomplete": true,
   "bibliofile": "biblio.bib",
   "cite_by": "apalike",
   "current_citInitial": 1,
   "eqLabelWithNumbers": true,
   "eqNumInitial": 1,
   "hotkeys": {
    "equation": "Ctrl-E",
    "itemize": "Ctrl-I"
   },
   "labels_anchors": false,
   "latex_user_defs": false,
   "report_style_numbering": false,
   "user_envs_cfg": false
  },
  "toc": {
   "nav_menu": {
    "height": "114px",
    "width": "194px"
   },
   "number_sections": true,
   "sideBar": true,
   "skip_h1_title": false,
   "toc_cell": false,
   "toc_position": {
    "height": "652px",
    "left": "0px",
    "right": "1228px",
    "top": "107px",
    "width": "225px"
   },
   "toc_section_display": "block",
   "toc_window_display": true
  },
  "varInspector": {
   "cols": {
    "lenName": 16,
    "lenType": 16,
    "lenVar": 40
   },
   "kernels_config": {
    "python": {
     "delete_cmd_postfix": "",
     "delete_cmd_prefix": "del ",
     "library": "var_list.py",
     "varRefreshCmd": "print(var_dic_list())"
    },
    "r": {
     "delete_cmd_postfix": ") ",
     "delete_cmd_prefix": "rm(",
     "library": "var_list.r",
     "varRefreshCmd": "cat(var_dic_list()) "
    }
   },
   "types_to_exclude": [
    "module",
    "function",
    "builtin_function_or_method",
    "instance",
    "_Feature"
   ],
   "window_display": false
  }
 },
 "nbformat": 4,
 "nbformat_minor": 2
}
