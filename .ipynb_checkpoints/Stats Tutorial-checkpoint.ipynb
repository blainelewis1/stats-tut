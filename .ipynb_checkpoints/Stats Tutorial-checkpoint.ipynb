{
 "cells": [
  {
   "cell_type": "markdown",
   "metadata": {},
   "source": [
    "# Stats Tutorial"
   ]
  },
  {
   "cell_type": "markdown",
   "metadata": {},
   "source": [
    "## Disclaimer"
   ]
  },
  {
   "cell_type": "markdown",
   "metadata": {},
   "source": [
    "I don't actually know stats. I just know (some) tools and a teeny amount of stats."
   ]
  },
  {
   "cell_type": "markdown",
   "metadata": {},
   "source": [
    "## Tools I use"
   ]
  },
  {
   "cell_type": "markdown",
   "metadata": {},
   "source": [
    "Python is amazing for data wrangling and visualisation. But it lacks in the stats department, so I use R to do stats.\n",
    "\n",
    "\n",
    "Tools, at the very least you need python 3 and R with these installed: \n",
    "\n",
    "`pip3 install jupyter seaborn pandas numpy scipy matplotlib` \n",
    "`brew install r`\n",
    "\n",
    "Open R and run this to make it work with Jupyter (https://irkernel.github.io/installation/):\n",
    "\n",
    "`install.packages(c('repr', 'IRdisplay', 'evaluate', 'crayon', 'pbdZMQ', 'devtools', 'uuid', 'digest'))\n",
    "devtools::install_github('IRkernel/IRkernel')`\n",
    "`IRkernel::installspec()`\n",
    "\n",
    "Jupyter nbextensions:\n",
    "\n",
    "`pip3 install jupyter_contrib_nbextensions`"
   ]
  },
  {
   "cell_type": "markdown",
   "metadata": {},
   "source": [
    "## ++Confidence --Time Wasted"
   ]
  },
  {
   "cell_type": "markdown",
   "metadata": {},
   "source": [
    "Take best practices from open science and apply them without necessarily opening our data.\n",
    "\n",
    "You're not done your stats until you can confidently open your data and your stats. You might have made a mistake but mistakes are fine.\n",
    "\n",
    "\n",
    "Reproducible stats sound time consuming but really it takes LESS time because we're often tweaking things"
   ]
  },
  {
   "cell_type": "markdown",
   "metadata": {},
   "source": [
    "## Techniques"
   ]
  },
  {
   "cell_type": "markdown",
   "metadata": {},
   "source": [
    "3 notebooks: base + explore + final\n",
    "\n",
    "\n",
    "Your explore data should show you every possible stat you can imagine. It'll be a little bit messy but should remain a bit better.\n",
    "\n",
    "Final has ONLY figures and stats you're putting into your paper.\n",
    "\n",
    "Base should be where you name all your columns and make them available. You should do this explicitly not implicitly."
   ]
  },
  {
   "cell_type": "markdown",
   "metadata": {},
   "source": [
    "## Exploring"
   ]
  },
  {
   "cell_type": "markdown",
   "metadata": {},
   "source": [
    "### Correctness\n",
    "\n",
    "Did our parser work? Does our data look right? \n",
    "\n",
    "### Distribution\n",
    "\n",
    "Do we have outliers? Do our errors look Poisson, times look log or loglog?\n",
    "\n",
    "### Measures\n",
    "\n",
    "Are there any trends? Is there a learning effect? What do our conditions look individually?\n",
    "\n",
    "### Everything Else\n",
    "\n",
    "When we're exploring we want to try a bunch of different stats and stuff to make sure we didn't miss everything. I try to keep this at the end because it tends to be very slow. "
   ]
  },
  {
   "cell_type": "markdown",
   "metadata": {},
   "source": [
    "## Final"
   ]
  },
  {
   "cell_type": "markdown",
   "metadata": {},
   "source": [
    "We had some decent figures in explore, but the sizing and everything is wrong and we need some finishing touches. So we move into the final notebook which takes data from the same place but is setup to display nicely on a paper, not a screen."
   ]
  },
  {
   "cell_type": "markdown",
   "metadata": {},
   "source": [
    "## Things to keep in mind"
   ]
  },
  {
   "cell_type": "markdown",
   "metadata": {},
   "source": [
    "DRY as much as possible. Don't rush. \n",
    "\n",
    "Never change the actual dataframes, copy them. If a metric is interesting move it to Base and add it in properly. "
   ]
  }
 ],
 "metadata": {
  "hide_input": false,
  "kernelspec": {
   "display_name": "Python 3",
   "language": "python",
   "name": "python3"
  },
  "language_info": {
   "codemirror_mode": {
    "name": "ipython",
    "version": 3
   },
   "file_extension": ".py",
   "mimetype": "text/x-python",
   "name": "python",
   "nbconvert_exporter": "python",
   "pygments_lexer": "ipython3",
   "version": "3.6.4"
  },
  "toc": {
   "nav_menu": {},
   "number_sections": true,
   "sideBar": true,
   "skip_h1_title": false,
   "toc_cell": false,
   "toc_position": {},
   "toc_section_display": "block",
   "toc_window_display": true
  }
 },
 "nbformat": 4,
 "nbformat_minor": 2
}
