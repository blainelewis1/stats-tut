{
 "cells": [
  {
   "cell_type": "markdown",
   "metadata": {},
   "source": [
    "# Seaborn Setup"
   ]
  },
  {
   "cell_type": "code",
   "execution_count": 1,
   "metadata": {},
   "outputs": [
    {
     "ename": "NameError",
     "evalue": "name 'math' is not defined",
     "output_type": "error",
     "traceback": [
      "\u001b[0;31m---------------------------------------------------------------------------\u001b[0m",
      "\u001b[0;31mNameError\u001b[0m                                 Traceback (most recent call last)",
      "\u001b[0;32m<ipython-input-1-4980e4b99c88>\u001b[0m in \u001b[0;36m<module>\u001b[0;34m()\u001b[0m\n\u001b[1;32m      4\u001b[0m \u001b[0mfig_width_pt\u001b[0m \u001b[0;34m=\u001b[0m \u001b[0;36m243.98238\u001b[0m  \u001b[0;31m# Get this from LaTeX using \\showthe\\columnwidth\u001b[0m\u001b[0;34m\u001b[0m\u001b[0m\n\u001b[1;32m      5\u001b[0m \u001b[0minches_per_pt\u001b[0m \u001b[0;34m=\u001b[0m \u001b[0;36m1.0\u001b[0m\u001b[0;34m/\u001b[0m\u001b[0;36m72.27\u001b[0m               \u001b[0;31m# Convert pt to inches\u001b[0m\u001b[0;34m\u001b[0m\u001b[0m\n\u001b[0;32m----> 6\u001b[0;31m \u001b[0mgolden_mean\u001b[0m \u001b[0;34m=\u001b[0m \u001b[0;34m(\u001b[0m\u001b[0mmath\u001b[0m\u001b[0;34m.\u001b[0m\u001b[0msqrt\u001b[0m\u001b[0;34m(\u001b[0m\u001b[0;36m5\u001b[0m\u001b[0;34m)\u001b[0m\u001b[0;34m-\u001b[0m\u001b[0;36m1.0\u001b[0m\u001b[0;34m)\u001b[0m\u001b[0;34m/\u001b[0m\u001b[0;36m2.0\u001b[0m         \u001b[0;31m# Aesthetic ratio\u001b[0m\u001b[0;34m\u001b[0m\u001b[0m\n\u001b[0m\u001b[1;32m      7\u001b[0m \u001b[0mfig_width\u001b[0m \u001b[0;34m=\u001b[0m \u001b[0mfig_width_pt\u001b[0m\u001b[0;34m*\u001b[0m\u001b[0minches_per_pt\u001b[0m  \u001b[0;31m# width in inches\u001b[0m\u001b[0;34m\u001b[0m\u001b[0m\n\u001b[1;32m      8\u001b[0m \u001b[0mfig_height\u001b[0m \u001b[0;34m=\u001b[0m \u001b[0mfig_width\u001b[0m\u001b[0;34m*\u001b[0m\u001b[0mgolden_mean\u001b[0m       \u001b[0;31m# height in inches\u001b[0m\u001b[0;34m\u001b[0m\u001b[0m\n",
      "\u001b[0;31mNameError\u001b[0m: name 'math' is not defined"
     ]
    }
   ],
   "source": [
    "height = 2.0 * 4\n",
    "width = 3.5 * 4\n",
    "\n",
    "fig_width_pt = 243.98238  # Get this from LaTeX using \\showthe\\columnwidth\n",
    "inches_per_pt = 1.0/72.27               # Convert pt to inches\n",
    "golden_mean = (math.sqrt(5)-1.0)/2.0         # Aesthetic ratio\n",
    "fig_width = fig_width_pt*inches_per_pt  # width in inches\n",
    "fig_height = fig_width*golden_mean       # height in inches\n",
    "fig_size = [fig_width,fig_height]\n",
    "\n",
    "rc = {  \n",
    "#         'font.size': 32, # get this with \\fontname\\font\\ at \\the\\fontdimen6\\font\n",
    "        'figure.titlesize': 10,\n",
    "        'figure.titleweight': 700,\n",
    "        'xtick.labelsize': 10,\n",
    "        'ytick.labelsize': 10,\n",
    "        'axes.labelsize': 10,\n",
    "        'legend.fontsize': 10,\n",
    "        'lines.linewidth': 1,\n",
    "        'figure.figsize':fig_size\n",
    "        }\n",
    "\n",
    "sns.set_context('paper', rc=rc)\n"
   ]
  },
  {
   "cell_type": "markdown",
   "metadata": {},
   "source": [
    "# Learning Effect"
   ]
  },
  {
   "cell_type": "code",
   "execution_count": null,
   "metadata": {
    "collapsed": true
   },
   "outputs": [],
   "source": []
  },
  {
   "cell_type": "code",
   "execution_count": null,
   "metadata": {
    "scrolled": false
   },
   "outputs": [],
   "source": [
    "%%R -i training_block_grouped\n",
    "\n",
    "training_block_grouped$Participant = factor(training_block_grouped$Participant)\n",
    "\n",
    "training_block_grouped$Block = factor(training_block_grouped$Block)\n",
    "training_block_grouped$Condition = factor(training_block_grouped$Condition)\n",
    "\n",
    "training_block_grouped$logTime = log(training_block_grouped$Total.Task.Time)\n",
    "\n",
    "m <- ezANOVA(data = training_block_grouped, \n",
    "          wid = Participant, \n",
    "          dv = logTime, \n",
    "#           between = Condition,\n",
    "          within = Block, \n",
    "          return_aov=TRUE)\n",
    "\n",
    "\n",
    "pos = match(m$`Sphericity Corrections`$Effect, m$ANOVA$Effect) # positions of within-Ss efx in m$ANOVA\n",
    "m$Sphericity$GGe.DFn = m$Sphericity$GGe * m$ANOVA$DFn[pos] # Greenhouse-Geisser\n",
    "m$Sphericity$GGe.DFd = m$Sphericity$GGe * m$ANOVA$DFd[pos]\n",
    "m$Sphericity$HFe.DFn = m$Sphericity$HFe * m$ANOVA$DFn[pos] # Huynh-Feldt\n",
    "m$Sphericity$HFe.DFd = m$Sphericity$HFe * m$ANOVA$DFd[pos]\n",
    "\n",
    "print(m)\n",
    "\n",
    "\n",
    "# m <- aov(Total.Task.Time ~ Block + Error(Participant/Block), data=training_block_grouped)\n",
    "# print(summary(m))\n",
    "# print(TukeyHSD(m))\n",
    "\n",
    "d = training_block_grouped\n",
    "d$t = d$logTime\n",
    "\n",
    "p12 = t.test(d[d$Block == 1,]$t, d[d$Block == 2,]$t,paired=TRUE)$p.value\n",
    "p23 = t.test(d[d$Block == 2,]$t, d[d$Block == 3,]$t,paired=TRUE)$p.value\n",
    "p34 = t.test(d[d$Block == 3,]$t, d[d$Block == 4,]$t,paired=TRUE)$p.value\n",
    "p48 = t.test(d[d$Block == 4,]$t, d[d$Block == 8,]$t,paired=TRUE)$p.value\n",
    "p89 = t.test(d[d$Block == 8,]$t, d[d$Block == 9,]$t,paired=TRUE)$p.value\n",
    "p910 = t.test(d[d$Block == 9,]$t, d[d$Block == 10,]$t,paired=TRUE)$p.value\n",
    "p1011 = t.test(d[d$Block == 10,]$t, d[d$Block == 11,]$t,paired=TRUE)$p.value\n",
    "\n",
    "print(p.adjust(c(p12, p23,p34,p48,p89,p910,p1011), method='bonferroni'))\n",
    "\n",
    "mm = unlist(m)\n",
    "\n",
    "print(anova_to_latex(mm$Sphericity.GGe.DFn, mm$Sphericity.GGe.DFd, mm$`Sphericity.p[GG]`, mm$ANOVA.F, mm$ANOVA.ges))"
   ]
  },
  {
   "cell_type": "code",
   "execution_count": null,
   "metadata": {
    "collapsed": true
   },
   "outputs": [],
   "source": []
  },
  {
   "cell_type": "markdown",
   "metadata": {},
   "source": [
    "# Expert Use"
   ]
  },
  {
   "cell_type": "code",
   "execution_count": null,
   "metadata": {},
   "outputs": [],
   "source": [
    "training.groupby(['Condition'])[['Expert Use']].agg(['mean', 'std'])"
   ]
  },
  {
   "cell_type": "code",
   "execution_count": null,
   "metadata": {},
   "outputs": [],
   "source": [
    "g = sns.barplot(x='Grouped', \n",
    "               hue='Condition', \n",
    "               y='Expert Use', \n",
    "               data=training_last_blocks_grouped, \n",
    "               )\n",
    "g.get_figure().set_size_inches(6,2.5)\n",
    "g.legend(loc='lower center',bbox_to_anchor=(0.5, -0.3), ncol=4)\n",
    "g.set_ylabel(\"Expert Use\")\n",
    "g.set_xlabel(\"\")\n",
    "# g.legend(loc='lower right')\n",
    "# g.set(ylim=(0, 0.7))\n",
    "g.axes.set_label('')\n",
    "\n",
    "g.set_yticklabels(['{:g}%'.format(x * 100) for x in g.get_yticks()])\n",
    "\n",
    "\n",
    "g.get_figure().savefig('figures/expert_last_blocks_grouped.pdf', bbox_inches='tight')"
   ]
  },
  {
   "cell_type": "code",
   "execution_count": null,
   "metadata": {
    "collapsed": true
   },
   "outputs": [],
   "source": []
  },
  {
   "cell_type": "code",
   "execution_count": null,
   "metadata": {
    "scrolled": false
   },
   "outputs": [],
   "source": [
    "%%R -i training_last_blocks_grouped\n",
    "\n",
    "training_last_blocks_grouped$Grouped = factor(training_last_blocks_grouped$Grouped)\n",
    "training_last_blocks_grouped$Participant = factor(training_last_blocks_grouped$Participant)\n",
    "training_last_blocks_grouped$Condition = factor(training_last_blocks_grouped$Condition)\n",
    "\n",
    "grouped <- training_last_blocks_grouped[training_last_blocks_grouped$Grouped == 'Grouped',]\n",
    "ungrouped <- training_last_blocks_grouped[training_last_blocks_grouped$Grouped == 'Ungrouped',]\n",
    "\n",
    "\n",
    "grouped_m <- aov(Expert.Use ~ Condition, data=grouped)\n",
    "ungrouped_m <- aov(Expert.Use ~ Condition, data=ungrouped)\n",
    "\n",
    "print('-------------------')\n",
    "print('----- Grouped -----')\n",
    "print('-------------------')\n",
    "\n",
    "print(summary(grouped_m))\n",
    "print(\"Eta Squared\")\n",
    "print(eta_sq(grouped_m)[2]$etasq)\n",
    "print(TukeyHSD(grouped_m))\n",
    "\n",
    "print('---------------------')\n",
    "print('----- Ungrouped -----')\n",
    "print('---------------------')\n",
    "\n",
    "print(summary(ungrouped_m))\n",
    "print(\"Eta Squared\")\n",
    "print(eta_sq(ungrouped_m)[2]$etasq)\n",
    "print(TukeyHSD(ungrouped_m))\n",
    "\n",
    "\n",
    "qqnorm(residuals(grouped_m)); qqline(residuals(grouped_m))\n",
    "qqnorm(residuals(ungrouped_m)); qqline(residuals(ungrouped_m))"
   ]
  },
  {
   "cell_type": "markdown",
   "metadata": {},
   "source": [
    "# Time"
   ]
  },
  {
   "cell_type": "code",
   "execution_count": null,
   "metadata": {},
   "outputs": [],
   "source": [
    "training.groupby(['Condition'])[['Total Task Time']].agg(['mean', 'std'])"
   ]
  },
  {
   "cell_type": "code",
   "execution_count": null,
   "metadata": {},
   "outputs": [],
   "source": [
    "g = sns.barplot(x='Grouped', \n",
    "               hue='Condition', \n",
    "               y='Total Task Time', \n",
    "               data=training_last_blocks_grouped, \n",
    "               )\n",
    "\n",
    "g.get_figure().set_size_inches(6,2.5)\n",
    "g.legend(loc='lower center',bbox_to_anchor=(0.5, -0.3), ncol=4)\n",
    "g.set_ylabel(\"Command Task Time (ms)\")\n",
    "\n",
    "# g.legend(loc='lower right')\n",
    "g.axes.set_label('')\n",
    "g.axes.set_xlabel('')\n",
    "# g.set(ylim=(0, 5000))\n",
    "\n",
    "g.get_figure().savefig('figures/time_last_blocks_grouped.pdf', bbox_inches='tight')"
   ]
  },
  {
   "cell_type": "code",
   "execution_count": null,
   "metadata": {
    "scrolled": false
   },
   "outputs": [],
   "source": [
    "%%R -i training_last_blocks_grouped\n",
    "\n",
    "training_last_blocks_grouped$Grouped = factor(training_last_blocks_grouped$Grouped)\n",
    "training_last_blocks_grouped$Participant = factor(training_last_blocks_grouped$Participant)\n",
    "training_last_blocks_grouped$Condition = factor(training_last_blocks_grouped$Condition)\n",
    "\n",
    "training_last_blocks_grouped$log_time = log(training_last_blocks_grouped$Total.Task.Time)\n",
    "\n",
    "grouped <- training_last_blocks_grouped[training_last_blocks_grouped$Grouped == 'Grouped',]\n",
    "ungrouped <- training_last_blocks_grouped[training_last_blocks_grouped$Grouped == 'Ungrouped',]\n",
    "\n",
    "grouped_m <- aov(log_time ~ Condition, data=grouped)\n",
    "ungrouped_m <- aov(log_time ~ Condition, data=ungrouped)\n",
    "\n",
    "print('-------------------')\n",
    "print('----- Grouped -----')\n",
    "print('-------------------')\n",
    "\n",
    "print(summary(grouped_m))\n",
    "print(TukeyHSD(grouped_m))\n",
    "print(\"Eta Squared\")\n",
    "print(eta_sq(grouped_m)[2]$etasq)\n",
    "\n",
    "print(aov_to_latex(grouped_m))\n",
    "\n",
    "print('---------------------')\n",
    "print('----- Ungrouped -----')\n",
    "print('---------------------')\n",
    "\n",
    "print(summary(ungrouped_m))\n",
    "print(TukeyHSD(ungrouped_m))\n",
    "\n",
    "print(\"Eta Squared\")\n",
    "print(eta_sq(ungrouped_m)[2]$etasq)\n",
    "\n",
    "print(aov_to_latex(ungrouped_m))\n",
    "\n",
    "\n",
    "qqnorm(residuals(grouped_m)); qqline(residuals(grouped_m))\n",
    "qqnorm(residuals(ungrouped_m)); qqline(residuals(ungrouped_m))\n",
    "\n",
    "# for(condition in unique(grouped$Condition)) {\n",
    "#     fit = fitdistr(grouped[grouped$Condition == condition,]$Total.Task.Time, \"lognormal\")$estimate\n",
    "#     print(ks.test(grouped[grouped$Condition == condition,]$Total.Task.Time, \"plnorm\", meanlog=fit[1], sdlog=fit[2], exact=TRUE))\n",
    "# }\n",
    "\n",
    "# for(condition in unique(ungrouped$Condition)) {\n",
    "#     fit = fitdistr(grouped[grouped$Condition == condition,]$Total.Task.Time, \"lognormal\")$estimate\n",
    "#     print(ks.test(grouped[grouped$Condition == condition,]$Total.Task.Time, \"plnorm\", meanlog=fit[1], sdlog=fit[2], exact=TRUE))\n",
    "# }\n"
   ]
  },
  {
   "cell_type": "markdown",
   "metadata": {},
   "source": [
    "# Recall"
   ]
  },
  {
   "cell_type": "code",
   "execution_count": null,
   "metadata": {},
   "outputs": [],
   "source": [
    "test.groupby(['Block'])[['Recall']].agg(['mean', 'std'])"
   ]
  },
  {
   "cell_type": "code",
   "execution_count": null,
   "metadata": {},
   "outputs": [],
   "source": [
    "test.groupby(['Condition', 'Block'])[['Recall']].agg(['mean', 'std'])"
   ]
  },
  {
   "cell_type": "code",
   "execution_count": null,
   "metadata": {},
   "outputs": [],
   "source": [
    "\n",
    "fig, (ax1, ax2) = plt.subplots(1, 2, sharey=True, figsize=[plt.rcParams[\"figure.figsize\"][0], plt.rcParams[\"figure.figsize\"][1] / 2])\n",
    "plt.subplots_adjust(wspace=0.05, hspace=0.05)\n",
    "\n",
    "g1 = sns.barplot(x='Grouped', \n",
    "               hue='Condition', \n",
    "               y='Recall', \n",
    "               data=test_grouped[test_grouped['Block'] == '10 Minutes'], \n",
    "                ax=ax1\n",
    "               )\n",
    "g1.set(ylim=(0, 8))\n",
    "g1.axes.set_label('')\n",
    "g1.set_xlabel(\"\")\n",
    "g1.set_title('10 Minutes')\n",
    "g1.legend_.remove()\n",
    "\n",
    "g2 = sns.barplot(x='Grouped', \n",
    "               hue='Condition', \n",
    "               y='Recall', \n",
    "               data=test_grouped[test_grouped['Block'] == '24 Hours'], \n",
    "               ax = ax2\n",
    "               )\n",
    "\n",
    "g2.set_xlabel(\"\")\n",
    "g2.set_ylabel(\"\")\n",
    "g1.set_title('Block 7 \\n(after distraction task)')\n",
    "\n",
    "g2.set_title('Block 13 \\n(after 24 hours)')\n",
    "g2.axes.set_label('')\n",
    "g2.legend_.remove()\n",
    "g1.set_ylabel('# of Items Recalled')\n",
    "handles, labels = ax1.get_legend_handles_labels()\n",
    "fig.subplots_adjust(bottom=0.26)\n",
    "\n",
    "fig.legend(handles, labels, loc='lower center', ncol=4, )\n",
    "fig.savefig('figures/recall_grouped.pdf', bbox_inches='tight')"
   ]
  },
  {
   "cell_type": "code",
   "execution_count": null,
   "metadata": {
    "collapsed": true
   },
   "outputs": [],
   "source": []
  },
  {
   "cell_type": "code",
   "execution_count": null,
   "metadata": {
    "scrolled": false
   },
   "outputs": [],
   "source": [
    "%%R -i test_grouped\n",
    "\n",
    "test_grouped$Grouped = factor(test_grouped$Grouped)\n",
    "test_grouped$Participant = factor(test_grouped$Participant)\n",
    "test_grouped$Condition = factor(test_grouped$Condition)\n",
    "\n",
    "grouped10min <- test_grouped[test_grouped$Grouped == 'Grouped' & test_grouped$Block == '10 Minutes',]\n",
    "ungrouped10min <- test_grouped[test_grouped$Grouped == 'Ungrouped' & test_grouped$Block == '10 Minutes',]\n",
    "\n",
    "grouped24hr <- test_grouped[test_grouped$Grouped == 'Grouped' & test_grouped$Block == '24 Hours',]\n",
    "ungrouped24hr <- test_grouped[test_grouped$Grouped == 'Ungrouped' & test_grouped$Block == '24 Hours',]\n",
    "\n",
    "grouped_m <- aov(Recall ~ Condition, data=grouped10min)\n",
    "ungrouped_m <- aov(Recall ~ Condition, data=ungrouped10min)\n",
    "\n",
    "print('-------------------')\n",
    "print('----- Grouped 10 Minutes -----')\n",
    "print('-------------------')\n",
    "\n",
    "print(summary(grouped_m))\n",
    "print(\"Eta Squared\")\n",
    "print(eta_sq(grouped_m)[2]$etasq)\n",
    "print(TukeyHSD(grouped_m))\n",
    "print(aov_to_latex(grouped_m))\n",
    "\n",
    "print('---------------------')\n",
    "print('----- Ungrouped 10 Minutes -----')\n",
    "print('---------------------')\n",
    "\n",
    "print(summary(ungrouped_m))\n",
    "print(\"Eta Squared\")\n",
    "print(eta_sq(ungrouped_m)[2]$etasq)\n",
    "print(TukeyHSD(ungrouped_m))\n",
    "print(aov_to_latex(ungrouped_m))\n",
    "\n",
    "\n",
    "qqnorm(residuals(grouped_m)); qqline(residuals(grouped_m))\n",
    "qqnorm(residuals(ungrouped_m)); qqline(residuals(ungrouped_m))\n",
    "\n",
    "\n",
    "grouped_m <- aov(Recall ~ Condition, data=grouped24hr)\n",
    "ungrouped_m <- aov(Recall ~ Condition, data=ungrouped24hr)\n",
    "\n",
    "print('-------------------')\n",
    "print('----- Grouped 24 Hours -----')\n",
    "print('-------------------')\n",
    "\n",
    "print(summary(grouped_m))\n",
    "print(\"Eta Squared\")\n",
    "print(eta_sq(grouped_m)[2]$etasq)\n",
    "print(TukeyHSD(grouped_m))\n",
    "print(aov_to_latex(grouped_m))\n",
    "\n",
    "\n",
    "print('---------------------')\n",
    "print('----- Ungrouped 24 Hours -----')\n",
    "print('---------------------')\n",
    "\n",
    "print(summary(ungrouped_m))\n",
    "print(\"Eta Squared\")\n",
    "print(eta_sq(ungrouped_m)[2]$etasq)\n",
    "print(TukeyHSD(ungrouped_m))\n",
    "print(aov_to_latex(ungrouped_m))\n",
    "\n",
    "\n",
    "qqnorm(residuals(grouped_m)); qqline(residuals(grouped_m))\n",
    "qqnorm(residuals(ungrouped_m)); qqline(residuals(ungrouped_m))"
   ]
  },
  {
   "cell_type": "markdown",
   "metadata": {},
   "source": [
    "# Errors"
   ]
  },
  {
   "cell_type": "code",
   "execution_count": null,
   "metadata": {},
   "outputs": [],
   "source": [
    "training.groupby(['Condition'])[['Error Rate']].agg(['mean', 'std'])"
   ]
  },
  {
   "cell_type": "code",
   "execution_count": null,
   "metadata": {},
   "outputs": [],
   "source": [
    "training[['Error Rate']].agg(['mean', 'std'])"
   ]
  },
  {
   "cell_type": "code",
   "execution_count": null,
   "metadata": {},
   "outputs": [],
   "source": [
    "g = sns.barplot(x='Grouped', \n",
    "               hue='Condition', \n",
    "               y='Error Rate', \n",
    "               data=training_last_blocks_grouped, \n",
    "               )\n",
    "\n",
    "g.get_figure().set_size_inches(6,2.5)\n",
    "g.legend(loc='lower center',bbox_to_anchor=(0.5, -0.3), ncol=4)\n",
    "\n",
    "g.set_xlabel(\"\")\n",
    "# g.legend(loc='upper right')\n",
    "# g.set(ylim=(0, 0.35))\n",
    "g.axes.set_label('')\n",
    "\n",
    "g.set_yticklabels(['{:g}%'.format(x * 100) for x in g.get_yticks()])\n",
    "\n",
    "\n",
    "g.get_figure().savefig('figures/error_last_blocks_grouped.pdf', bbox_inches='tight')"
   ]
  },
  {
   "cell_type": "code",
   "execution_count": null,
   "metadata": {
    "scrolled": false
   },
   "outputs": [],
   "source": [
    "%%R -i training_last_blocks_grouped\n",
    "\n",
    "training_last_blocks_grouped$Grouped = factor(training_last_blocks_grouped$Grouped)\n",
    "training_last_blocks_grouped$Participant = factor(training_last_blocks_grouped$Participant)\n",
    "training_last_blocks_grouped$Condition = factor(training_last_blocks_grouped$Condition)\n",
    "\n",
    "grouped <- training_last_blocks_grouped[training_last_blocks_grouped$Grouped == 'Grouped',]\n",
    "ungrouped <- training_last_blocks_grouped[training_last_blocks_grouped$Grouped == 'Ungrouped',]\n",
    "\n",
    "\n",
    "grouped_m <- aov(Error.Rate ~ Condition, data=grouped)\n",
    "ungrouped_m <- aov(Error.Rate ~ Condition, data=ungrouped)\n",
    "\n",
    "\n",
    "print('-------------------')\n",
    "print('----- Grouped -----')\n",
    "print('-------------------')\n",
    "\n",
    "print(summary(grouped_m))\n",
    "print(\"Eta Squared\")\n",
    "print(eta_sq(grouped_m)[2]$etasq)\n",
    "print(TukeyHSD(grouped_m))\n",
    "\n",
    "print('---------------------')\n",
    "print('----- Ungrouped -----')\n",
    "print('---------------------')\n",
    "\n",
    "print(summary(ungrouped_m))\n",
    "print(\"Eta Squared\")\n",
    "print(eta_sq(ungrouped_m)[2]$etasq)\n",
    "print(TukeyHSD(ungrouped_m))\n",
    "\n",
    "qqnorm(residuals(grouped_m)); qqline(residuals(grouped_m))\n",
    "qqnorm(residuals(ungrouped_m)); qqline(residuals(ungrouped_m))\n",
    "\n",
    "# unlisted = unlist(summary(ungrouped_m))\n",
    "# print(unlisted)\n",
    "# print(unlisted[\"Pr(>F)1\"])"
   ]
  },
  {
   "cell_type": "markdown",
   "metadata": {},
   "source": [
    "# Time Over Blocks"
   ]
  },
  {
   "cell_type": "code",
   "execution_count": null,
   "metadata": {},
   "outputs": [],
   "source": [
    "g = sns.pointplot(hue=\"Condition\", \n",
    "                   y=\"Total Task Time\", \n",
    "                   x='Block',\n",
    "#                    linestyles=['-', '--', '-.', ':'],\n",
    "#                    markers=['+', 'o', 'D', 'x'],\n",
    "                   data=training_block_grouped,\n",
    "#                   dodge=0.2\n",
    "\n",
    "                 )\n",
    "\n",
    "g.get_figure().set_size_inches(6,2.5)\n",
    "l = g.legend(loc='lower center',bbox_to_anchor=(0.5, -0.39), ncol=4)\n",
    "g.set(ylabel='Command Task Time (ms)')\n",
    "# g.legend(loc='upper right')\n",
    "# g.set(ylim=(0, 0.35))\n",
    "g.axes.set_label('')\n",
    "l = g.get_lines()[0]\n",
    "\n",
    "# g.get_lines()[7].remove()\n",
    "# g.get_lines()[11].remove()\n",
    "# g.get_lines()[15].remove()\n",
    "\n",
    "g.get_figure().savefig('figures/time_over_blocks.pdf', bbox_inches='tight')"
   ]
  },
  {
   "cell_type": "code",
   "execution_count": null,
   "metadata": {},
   "outputs": [],
   "source": [
    "dff = training.groupby(['Condition', 'Block'], as_index=False).agg(training_aggregations)\n",
    "\n",
    "\n",
    "fig, ax = plt.subplots()\n",
    "fig.set_size_inches(6,2.5)\n",
    "\n",
    "for condition in training_block_grouped.Condition.cat.categories:\n",
    "    df = dff[dff['Condition'] == condition]\n",
    "    df1 = df[df['Block'] <= 4]\n",
    "    df2 = df[df['Block'] >= 5]\n",
    "    plt.plot(df1.Block, df1['Total Task Time'], marker='o')\n",
    "    plt.plot(df2.Block - 3, df2['Total Task Time'], marker='o')\n",
    "    \n",
    "\n",
    "ax.set_xticks([1,2,3,4,5,6,7,8])\n",
    "ax.set_xticklabels([1,2,3,4,8,9,10,11])\n",
    "ax.set_xlabel('Block')"
   ]
  },
  {
   "cell_type": "code",
   "execution_count": null,
   "metadata": {},
   "outputs": [],
   "source": [
    "training[training['Condition'] != 'Baseline'][['Cancellation Rate']].agg(['mean', 'std'])\n"
   ]
  },
  {
   "cell_type": "code",
   "execution_count": null,
   "metadata": {},
   "outputs": [],
   "source": [
    "# fig, axes = plt.subplots(1,2)\n",
    "\n",
    "sns.pointplot(x='Block',\n",
    "              y='Cancellation Rate', \n",
    "              hue='Condition',\n",
    "              data=training_block_grouped)\n",
    "# sns.factorplot(x='Block',\n",
    "#               y='Error Rate', \n",
    "#               hue='Condition',\n",
    "#               data=training_block_grouped,\n",
    "#               ax=axes[1])"
   ]
  },
  {
   "cell_type": "markdown",
   "metadata": {},
   "source": [
    "# Physical Articulation"
   ]
  },
  {
   "cell_type": "code",
   "execution_count": null,
   "metadata": {
    "scrolled": false
   },
   "outputs": [],
   "source": [
    "training['modifier'] = training['shortcut'].str[1].fillna(0)\n",
    "\n",
    "df = training.groupby(['Condition', 'Participant', 'Block', 'modifier'], as_index=False).agg(training_aggregations)\n",
    "\n",
    "test['modifier'] = test['shortcut'].str[1].fillna(0)\n",
    "\n",
    "df = test.groupby(['Condition', 'Participant', 'Block', 'modifier'], as_index=False).agg(test_aggregations)\n",
    "\n",
    "g = sns.barplot(x='modifier', \n",
    "               hue='Condition', \n",
    "               y='Total Task Time', \n",
    "               data=training, \n",
    "               )\n",
    "\n",
    "\n",
    "# test"
   ]
  },
  {
   "cell_type": "code",
   "execution_count": null,
   "metadata": {},
   "outputs": [],
   "source": [
    "g = sns.barplot(x='modifier', \n",
    "               hue='Condition', \n",
    "               y='Recall', \n",
    "               data=test, \n",
    "               )"
   ]
  },
  {
   "cell_type": "markdown",
   "metadata": {},
   "source": [
    "# Modality Over Blocks split Grouped"
   ]
  },
  {
   "cell_type": "code",
   "execution_count": null,
   "metadata": {
    "scrolled": false
   },
   "outputs": [],
   "source": [
    "# g = sns.factorplot(x='Block', \n",
    "#                hue='Selection Type', \n",
    "#                y='Number of Selections', \n",
    "# #                col='Grouped', \n",
    "#                col='Condition',  \n",
    "#                data=modality, \n",
    "#                kind='bar', \n",
    "#                dodge=True,\n",
    "#                size=height,\n",
    "#                aspect=width/height)\n",
    "\n",
    "# rcc = rc.copy()\n",
    "# rc['linewidth']\n",
    "# sns.set_context('paper', rc=rcc)\n",
    "\n",
    "\n",
    "fig, axes = plt.subplots(1, 4, sharey=True, figsize=[12,2.2])\n",
    "plt.subplots_adjust(wspace=0.05, hspace=0.05)\n",
    "\n",
    "for ax, condition in zip(axes.reshape(-1),modality.Condition.cat.categories):\n",
    "    g = sns.barplot(x='Block', \n",
    "                       hue='Selection Type', \n",
    "                       y='Number of Selections',  \n",
    "                       data=modality_grouped[modality_grouped['Condition'] == condition],\n",
    "#                         errwidth=1,\n",
    "                       ax=ax)\n",
    "    g.legend_.remove()\n",
    "    g.axes.set_label('')\n",
    "    g.set_ylabel(\"\")\n",
    "    g.set_title(condition)\n",
    "\n",
    "\n",
    "# g.set_titles('{col_name} {row_name} Selections')\n",
    "handles, labels = ax.get_legend_handles_labels()\n",
    "fig.subplots_adjust(bottom=0.31)\n",
    "\n",
    "fig.legend(handles, labels, loc='lower center', ncol=4)\n",
    "fig.savefig('figures/modality_condition.pdf', bbox_inches='tight')"
   ]
  },
  {
   "cell_type": "code",
   "execution_count": null,
   "metadata": {
    "scrolled": false
   },
   "outputs": [],
   "source": [
    "fig, axes = plt.subplots(1, 4, sharey=True, figsize=[15,3])\n",
    "plt.subplots_adjust(wspace=0.05, hspace=0.05)\n",
    "\n",
    "for ax, condition in zip(axes.reshape(-1), modality.Condition.cat.categories):\n",
    "    dff = modality[modality['Condition'] == condition]\n",
    "    df = dff.groupby(['Block',  'Selection Type'], as_index=False).mean()\n",
    "    dfsem = dff.groupby(['Block', 'Selection Type']).sem().reset_index()\n",
    "\n",
    "    \n",
    "    dff = modality[modality['Condition'] == condition].groupby(['Participant','Block', 'Selection Type'], as_index=False).mean()\n",
    "    df = dff.groupby(['Block',  'Selection Type'], as_index=False).mean()\n",
    "    dfsem = dff.groupby(['Block', 'Selection Type']).sem().reset_index()\n",
    "\n",
    "    \n",
    "#     display(dfsem)\n",
    "#     display(df)\n",
    "    \n",
    "    blocks = [1,2,3,4,5,6,7,8]\n",
    "\n",
    "    linear_menu = df[df['Selection Type'] == 'Linear Menu']['Number of Selections'].values\n",
    "    shortcut_guidance = df[df['Selection Type'] == 'Shortcut Guidance']['Number of Selections'].values\n",
    "    expert = df[df['Selection Type'] == 'Shortcut']['Number of Selections'].values\n",
    "    \n",
    "    linear_menu_sem = dfsem[dfsem['Selection Type'] == 'Linear Menu']['Number of Selections'].values\n",
    "    shortcut_guidance_sem = dfsem[dfsem['Selection Type'] == 'Shortcut Guidance']['Number of Selections'].values\n",
    "    expert_sem = dfsem[dfsem['Selection Type'] == 'Shortcut']['Number of Selections'].values\n",
    "    \n",
    "    linear = ax.bar(blocks, linear_menu, yerr=linear_menu_sem)\n",
    "    shortcut = ax.bar(blocks, shortcut_guidance, bottom=linear_menu, yerr=shortcut_guidance_sem)\n",
    "    expert = ax.bar(blocks, expert, bottom=linear_menu + shortcut_guidance, yerr=expert_sem)\n",
    "    \n",
    "    ax.set_label('')\n",
    "    ax.set_title(condition)\n",
    "    ax.set_xticks([1,2,3,4,5,6,7,8])\n",
    "    ax.set_xticklabels([1,2,3,4,8,9,10,11])\n",
    "    ax.set_xlabel('Block')\n",
    "\n",
    "    ax.grid(False)\n",
    "    ax.grid(axis='y')\n",
    "\n",
    "fig.subplots_adjust(bottom=0.24)\n",
    "axes[0].set_ylabel('Rate of Selections')\n",
    "fig.legend([linear, shortcut, expert], ['Linear Menu', 'Shortcut Guidance', 'Shortcut'], loc='lower center', ncol=4)\n",
    "fig.savefig('figures/modality_condition.pdf', bbox_inches='tight')"
   ]
  },
  {
   "cell_type": "code",
   "execution_count": null,
   "metadata": {
    "collapsed": true
   },
   "outputs": [],
   "source": [
    "# fig, axes = plt.subplots(1, 4, sharey=True, figsize=[15,3])\n",
    "# plt.subplots_adjust(wspace=0.05, hspace=0.05)\n",
    "\n",
    "# for ax, condition in zip(axes.reshape(-1), modality.Condition.cat.categories):    \n",
    "#     dff = modality[modality['Condition'] == condition].groupby(['Participant', 'Selection Type'])\n",
    "#     df = dff.mean().reset_index()\n",
    "#     dfsem = dff.sem().reset_index()\n",
    "\n",
    "    \n",
    "# #     display(dfsem)\n",
    "# #     display(df)\n",
    "    \n",
    "#     blocks = [1,2,3,4,5,6,7,8]\n",
    "\n",
    "#     linear_menu = df[df['Selection Type'] == 'Linear Menu']['Number of Selections'].values\n",
    "#     shortcut_guidance = df[df['Selection Type'] == 'Shortcut Guidance']['Number of Selections'].values\n",
    "#     expert = df[df['Selection Type'] == 'Shortcut']['Number of Selections'].values\n",
    "    \n",
    "#     linear_menu_sem = dfsem[dfsem['Selection Type'] == 'Linear Menu']['Number of Selections'].values\n",
    "#     shortcut_guidance_sem = dfsem[dfsem['Selection Type'] == 'Shortcut Guidance']['Number of Selections'].values\n",
    "#     expert_sem = dfsem[dfsem['Selection Type'] == 'Shortcut']['Number of Selections'].values\n",
    "    \n",
    "#     linear = ax.bar(blocks, linear_menu, yerr=linear_menu_sem)\n",
    "#     shortcut = ax.bar(blocks, shortcut_guidance, bottom=linear_menu, yerr=shortcut_guidance_sem)\n",
    "#     expert = ax.bar(blocks, expert, bottom=linear_menu + shortcut_guidance, yerr=expert_sem)\n",
    "    \n",
    "#     ax.set_label('')\n",
    "#     ax.set_title(condition)\n",
    "#     ax.set_xticks([1,2,3,4,5,6,7,8])\n",
    "# #     ax.set_xticklabels([1,2,3,4,8,9,10,11])\n",
    "#     ax.set_xlabel('Participant')\n",
    "\n",
    "#     ax.grid(False)\n",
    "#     ax.grid(axis='y')\n",
    "\n",
    "# fig.subplots_adjust(bottom=0.24)\n",
    "# axes[0].set_ylabel('Percentage of Selections')\n",
    "# fig.legend([linear, shortcut, expert], ['Linear Menu', 'Shortcut Guidance', 'Shortcut'], loc='lower center', ncol=4)\n",
    "# # fig.savefig('figures/modality_condition.pdf', bbox_inches='tight')"
   ]
  },
  {
   "cell_type": "markdown",
   "metadata": {},
   "source": [
    "# Subjective"
   ]
  },
  {
   "cell_type": "markdown",
   "metadata": {},
   "source": [
    "## All"
   ]
  },
  {
   "cell_type": "code",
   "execution_count": null,
   "metadata": {
    "scrolled": false
   },
   "outputs": [],
   "source": [
    "g = sns.factorplot(hue=\"Condition\", \n",
    "                   y=\"Rating\", \n",
    "                   x='Measure',\n",
    "                   kind='bar', \n",
    "                   data=subjective_melted, \n",
    "                   legend_out=False,\n",
    "                   size=height, \n",
    "                   aspect=width/height)\n",
    "g.set(ylim=[0,5])\n",
    "g.set_axis_labels(\"\", None)\n",
    "\n",
    "g.set_xticklabels(rotation=45)"
   ]
  },
  {
   "cell_type": "code",
   "execution_count": null,
   "metadata": {},
   "outputs": [],
   "source": [
    "df = subjective.copy()\n",
    "del df['Participant']\n",
    "\n",
    "df = df.groupby(['Condition'], as_index=False).agg(median_mad)\n",
    "df = df.set_index('Condition')\n",
    "display(df)\n",
    "\n",
    "print(df.to_latex(bold_rows=True, column_format='l|c|c|c|c|c|c|c'))"
   ]
  },
  {
   "cell_type": "markdown",
   "metadata": {},
   "source": [
    "## Ease Of Use"
   ]
  },
  {
   "cell_type": "code",
   "execution_count": null,
   "metadata": {},
   "outputs": [],
   "source": [
    "g = sns.factorplot(x=\"Condition\", \n",
    "                   y=\"Ease of Use\", \n",
    "                   kind='bar', \n",
    "                   data=subjective, \n",
    "                   legend_out=False,\n",
    "                   size=height, \n",
    "                   aspect=width/height)\n",
    "\n",
    "g.set_axis_labels(\"\", None)\n",
    "g.set(ylim=[0,5])"
   ]
  },
  {
   "cell_type": "code",
   "execution_count": null,
   "metadata": {},
   "outputs": [],
   "source": [
    "%%R -i subjective \n",
    "\n",
    "subjective$Condition = factor(subjective$Condition)\n",
    "\n",
    "m <- art(Ease.of.Use ~ Condition, data=subjective)\n",
    "\n",
    "df = data.frame(y=m$aligned.ranks$Condition, m$data)\n",
    "m <- aov(data=df, y ~ Condition)\n",
    "print(summary(m))\n",
    "print(TukeyHSD(m))\n",
    "print(aov_to_latex(m))"
   ]
  },
  {
   "cell_type": "markdown",
   "metadata": {},
   "source": [
    "## Ease Of Learning"
   ]
  },
  {
   "cell_type": "code",
   "execution_count": null,
   "metadata": {},
   "outputs": [],
   "source": [
    "g = sns.factorplot(x=\"Condition\", \n",
    "                   y=\"Ease of Learning the Technique\", \n",
    "                   kind='bar', \n",
    "                   data=subjective, \n",
    "                   legend_out=False)\n",
    "\n",
    "g.set_axis_labels(\"\", None)\n",
    "g.set(ylim=[0,5])\n"
   ]
  },
  {
   "cell_type": "code",
   "execution_count": null,
   "metadata": {},
   "outputs": [],
   "source": [
    "%%R -i subjective \n",
    "\n",
    "subjective$Condition = factor(subjective$Condition)\n",
    "\n",
    "m <- art(Ease.of.Learning.the.Technique ~ Condition, data=subjective)\n",
    "df = data.frame(y=m$aligned.ranks$Condition, m$data)\n",
    "m <- aov(data=df, y ~ Condition)\n",
    "print(summary(m))\n",
    "print(TukeyHSD(m))\n",
    "print(aov_to_latex(m))"
   ]
  },
  {
   "cell_type": "markdown",
   "metadata": {},
   "source": [
    "## Posture"
   ]
  },
  {
   "cell_type": "code",
   "execution_count": null,
   "metadata": {},
   "outputs": [],
   "source": [
    "# g = sns.factorplot(x=\"Posture\", \n",
    "#                    y=\"Rating\", \n",
    "#                    kind='bar',\n",
    "#                    hue='Condition',\n",
    "#                    data=posture, \n",
    "#                    legend_out=False,\n",
    "#                    size=height, \n",
    "#                    aspect=width/height)\n",
    "\n",
    "# g.set_axis_labels(\"\", None)\n",
    "# g.set(ylim=[0,5])\n",
    "# g.savefig('subjective_learning.pdf')\n",
    "\n",
    "df = posture[['Condition', 'Primary', 'Secondary','Tertiary','Quaternary']].groupby(['Condition'], as_index=False).agg(median_mad)\n",
    "df = df.set_index('Condition')\n",
    "display(df)\n",
    "\n",
    "print(df.to_latex(bold_rows=True, column_format='l|c|c|c|c'))\n"
   ]
  },
  {
   "cell_type": "code",
   "execution_count": null,
   "metadata": {},
   "outputs": [],
   "source": [
    "%%R -i posture\n",
    "\n",
    "posture$Condition = factor(posture$Condition)\n",
    "\n",
    "m <- art(Rating ~ Condition, data=posture)\n",
    "df = data.frame(y=m$aligned.ranks$Condition, m$data)\n",
    "m <- aov(data=df, y ~ Condition)\n",
    "print(summary(m))\n",
    "print(TukeyHSD(m))"
   ]
  },
  {
   "cell_type": "code",
   "execution_count": null,
   "metadata": {
    "collapsed": true
   },
   "outputs": [],
   "source": []
  }
 ],
 "metadata": {
  "hide_input": false,
  "kernelspec": {
   "display_name": "Python 3",
   "language": "python",
   "name": "python3"
  },
  "language_info": {
   "codemirror_mode": {
    "name": "ipython",
    "version": 3
   },
   "file_extension": ".py",
   "mimetype": "text/x-python",
   "name": "python",
   "nbconvert_exporter": "python",
   "pygments_lexer": "ipython3",
   "version": "3.7.0"
  },
  "toc": {
   "nav_menu": {},
   "number_sections": true,
   "sideBar": true,
   "skip_h1_title": false,
   "toc_cell": false,
   "toc_position": {
    "height": "696px",
    "left": "0px",
    "right": "1228px",
    "top": "107px",
    "width": "212px"
   },
   "toc_section_display": "block",
   "toc_window_display": true
  }
 },
 "nbformat": 4,
 "nbformat_minor": 2
}
